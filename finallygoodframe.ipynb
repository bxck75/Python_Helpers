{
  "nbformat": 4,
  "nbformat_minor": 0,
  "metadata": {
    "colab": {
      "name": "finallygoodframe",
      "provenance": [],
      "private_outputs": true,
      "collapsed_sections": []
    },
    "kernelspec": {
      "name": "python3",
      "display_name": "Python 3"
    }
  },
  "cells": [
    {
      "cell_type": "markdown",
      "metadata": {
        "id": "8wT2IiYTgOW_",
        "colab_type": "text"
      },
      "source": [
        "# main\n"
      ]
    },
    {
      "cell_type": "code",
      "metadata": {
        "id": "9SKY-7mObD4F",
        "colab_type": "code",
        "colab": {}
      },
      "source": [
        "# remove defaults\n",
        "!rm -r sample_data\n",
        "# Clone the frame\n",
        "!git clone https://github.com/bxck75/samplemod.git\n",
        "!git clone https://github.com/bxck75/PyHelpers.git\n",
        "# Change dir\n",
        "%cd /content/samplemod\n",
        "# install\n",
        "!python /content/samplemod/setup.py install"
      ],
      "execution_count": 0,
      "outputs": []
    },
    {
      "cell_type": "markdown",
      "metadata": {
        "id": "JzMexc7_lMwh",
        "colab_type": "text"
      },
      "source": [
        "copy helpers"
      ]
    },
    {
      "cell_type": "code",
      "metadata": {
        "id": "GjWKoYbTlK4s",
        "colab_type": "code",
        "colab": {}
      },
      "source": [
        ""
      ],
      "execution_count": 0,
      "outputs": []
    },
    {
      "cell_type": "code",
      "metadata": {
        "id": "nzVk8HXDk0H_",
        "colab_type": "code",
        "colab": {}
      },
      "source": [
        "!cp /content/PyHelpers/Libs/* /content/samplemod/sample"
      ],
      "execution_count": 0,
      "outputs": []
    },
    {
      "cell_type": "markdown",
      "metadata": {
        "id": "5t3ztojBhcaZ",
        "colab_type": "text"
      },
      "source": [
        "change and rewrite main"
      ]
    },
    {
      "cell_type": "code",
      "metadata": {
        "id": "ceHbn7F2ftWM",
        "colab_type": "code",
        "colab": {}
      },
      "source": [
        "%%writefile /content/samplemod/main.py\n",
        "# -*- coding: utf-8 -*-\n",
        "\n",
        "import sys\n",
        "import os\n",
        "sys.path.insert(0, os.path.abspath(os.path.join(os.path.dirname(__file__), '..')))\n",
        "\n",
        "import sample\n",
        "\n",
        "# print(sys.path)\n",
        "# help()\n",
        "# help(sample.helpers)\n",
        "# print(dir(sample))\n",
        "# sample.hmm('ZipUp')\n",
        "# sample.hmm()\n",
        "# print(sample.ZipUp.__dict__['__file__'])\n",
        "# print(dir(sample.ZipUp))\n",
        "# print(dir(sample.BigHelp))\n",
        "# print(dir(sample.RepCoList.reps))\n",
        "# print(dir(sample.custom_functions))\n",
        "H=sample.BigHelp.Helpers()\n",
        "H.zipper=sample.ZipUp\n",
        "zipname='Samplemod2'\n",
        "foldername='/content/drive/My\\ Drive'\n",
        "target_dir='/content/samplemod'\n",
        "print(H.Me(['vdir',[H.zipper]]))\n",
        "item_to = H.zipper.ZipUp(zipname, foldername, target_dir)\n",
        "print(item_to.ZipUp)"
      ],
      "execution_count": 0,
      "outputs": []
    },
    {
      "cell_type": "code",
      "metadata": {
        "id": "gNRdMnYkf5I_",
        "colab_type": "code",
        "colab": {}
      },
      "source": [
        "# install\n",
        "# !python /content/samplemod/setup.py install\n",
        "# run main\n",
        "!python main.py\n",
        "https://drive.google.com/open?id=1Xjiqm0QNw8vS1s4PKTQN5UpBJV4M6kfL"
      ],
      "execution_count": 0,
      "outputs": []
    },
    {
      "cell_type": "code",
      "metadata": {
        "id": "Lo70ghM8zJrI",
        "colab_type": "code",
        "colab": {}
      },
      "source": [
        "from google.colab import drive\n",
        "drive.mount('/content/drive')"
      ],
      "execution_count": 0,
      "outputs": []
    },
    {
      "cell_type": "markdown",
      "metadata": {
        "id": "LT7kYXS2hiZ_",
        "colab_type": "text"
      },
      "source": [
        "add to the core"
      ]
    },
    {
      "cell_type": "code",
      "metadata": {
        "id": "dSRwBOEhb8XE",
        "colab_type": "code",
        "colab": {}
      },
      "source": [
        "%%writefile /content/samplemod/sample/core.py\n",
        "# -*- coding: utf-8 -*-\n",
        "from . import helpers\n",
        "from . import ZipUp\n",
        "from . import BigHelp\n",
        "from . import RepCoList\n",
        "from . import custom_functions\n",
        "\n",
        "def get_hmm():\n",
        "    \"\"\"Get a thought.\"\"\"\n",
        "#     help(ZipUp)\n",
        "    return 'hmmm...'\n",
        "\n",
        "\n",
        "def hmm(tool):\n",
        "    \"\"\"Contemplation...\"\"\"\n",
        "    print( helpers.get_answer() )\n",
        "    if helpers.get_answer():\n",
        "        print(get_hmm())\n",
        "\n",
        "# def ZipUp(zipname, foldername, target_dir): \n",
        "#     \"\"\"zips a folder and uploads it to gdrive\"\"\"\n",
        "#     Zipup.ZipUp(zipname, foldername, target_dir)"
      ],
      "execution_count": 0,
      "outputs": []
    },
    {
      "cell_type": "markdown",
      "metadata": {
        "id": "cXQCv87ChlE-",
        "colab_type": "text"
      },
      "source": [
        "add to helpers"
      ]
    },
    {
      "cell_type": "code",
      "metadata": {
        "id": "G4bRlFRIcLjk",
        "colab_type": "code",
        "colab": {}
      },
      "source": [
        "%%writefile /content/samplemod/sample/helpers.py\n",
        "\n",
        "def get_answer():\n",
        "    \"\"\"Get an answer.\"\"\"\n",
        "\n",
        "    return True\n"
      ],
      "execution_count": 0,
      "outputs": []
    },
    {
      "cell_type": "markdown",
      "metadata": {
        "id": "J2bDNbG8hq0b",
        "colab_type": "text"
      },
      "source": [
        "add to init"
      ]
    },
    {
      "cell_type": "code",
      "metadata": {
        "id": "EkT2Z9h_cUJB",
        "colab_type": "code",
        "colab": {}
      },
      "source": [
        "%writefile /content/samplemod/sample/__init__.py\n",
        "from .core import hmm\n",
        "from .core import ZipUp"
      ],
      "execution_count": 0,
      "outputs": []
    },
    {
      "cell_type": "code",
      "metadata": {
        "id": "KD4zCBRuukgk",
        "colab_type": "code",
        "colab": {}
      },
      "source": [
        "%%writefile /content/samplemod/sample/custom_functions.py\n",
        "'''Own functions list'''\n",
        "def get_gdrive_dataset(pack, DS_root='datasets',GD_root='datasets'):\n",
        "    import google\n",
        "    from google.colab import drive\n",
        "    drive.mount('/content/drive', force_remount=True)\n",
        "    H.GD_ROOT=GD_root+'/'\n",
        "    H.DS_ROOT=DS_root+'/'\n",
        "    os.chdir(H.gdrive_root+H.GD_ROOT)\n",
        "    H.Me(['mkd',[DS_root,'models'],H.pix_root])\n",
        "    H.Me(['cml','cp -r '+pack+' '+H.pix_root+DS_root])\n",
        "    os.chdir(H.pix_root+DS_root)\n",
        "    H.Me(['cml','unzip -q '+pack])\n",
        "    H.Me(['cml','rm -r '+pack])\n",
        "    os.chdir(H.pix_root)\n",
        "\n",
        "def MethHelp(libs):\n",
        "    os_help=H.Me(['vdir',libs])\n",
        "    #make a list containing libs values of os_help\n",
        "    listOfLibs = [x[0] for x in os_help]\n",
        "    #make a list containing libs method values of os_help\n",
        "    listOfMethods= [x[1] for x in os_help]\n",
        "    # Create a zipped list of tuples from above lists\n",
        "    zippedList =  list(zip(listOfLibs, listOfMethods[0:5]))\n",
        "    zippedList\n",
        "    # request help on method from list\n",
        "    return zippedList\n",
        "    \n",
        "def loadTboard():\n",
        "    '''load tensorboard'''\n",
        "    import datetime, os ,tensorboard\n",
        "    # install tensorboard\n",
        "    #     H.Me(['cml','pip install -q tensorflow'])\n",
        "    # Load the TensorBoard notebook extension\n",
        "#     try:\n",
        "#         %load_ext tensorboard\n",
        "#     except:\n",
        "#         %reload_ext tensorboard\n"
      ],
      "execution_count": 0,
      "outputs": []
    },
    {
      "cell_type": "code",
      "metadata": {
        "id": "yMdzIz9YsA3v",
        "colab_type": "code",
        "colab": {}
      },
      "source": [
        "%%writefile /content/samplemod/sample/ZipUp.py\n",
        "import os\n",
        "os.system('pip install -U -q PyDrive')\n",
        "from google.colab import files\n",
        "from pydrive.auth import GoogleAuth\n",
        "from pydrive.drive import GoogleDrive\n",
        "from google.colab import auth\n",
        "from oauth2client.client import GoogleCredentials\n",
        "import zipfile\n",
        "import os\n",
        "import sys\n",
        "\n",
        "class ZipUp:\n",
        "\n",
        "    def __init__(self, zipname, foldername, target_dir):\n",
        "        ''' init the details for the zip and push'''\n",
        "        self.zipname = zipname\n",
        "        self.foldername = foldername\n",
        "        self.target_dir = target_dir\n",
        "\n",
        "    @property\n",
        "    def ZipUp(self):\n",
        "        ''' define the zip_n_push property'''\n",
        "        if( self.zipname !='' and self.foldername != '' and self.target_dir != '' ):\n",
        "            self.zipfolder()\n",
        "            self.g_login()\n",
        "            self.make_push()\n",
        "            self.status = self.status + self.get_id()\n",
        "            return self.status\n",
        "        \n",
        "    def zipfolder(self):\n",
        "        ''' zip the selected folder to the target dir with '''\n",
        "        zipobj = zipfile.ZipFile(self.zipname + '.zip', 'w', zipfile.ZIP_DEFLATED)\n",
        "        rootlen = len(self.target_dir) + 1\n",
        "        for base, dirs, files in os.walk(self.target_dir):\n",
        "            for file in files:\n",
        "                fn = os.path.join(base, file)\n",
        "                zipobj.write(fn, fn[rootlen:])\n",
        "        self.status='zipped '\n",
        "                \n",
        "    def g_login(self):\n",
        "        ''' Authenticate and create the PyDrive client.'''\n",
        "        auth.authenticate_user()\n",
        "        gauth = GoogleAuth()\n",
        "        gauth.credentials = GoogleCredentials.get_application_default()\n",
        "        self.drive = GoogleDrive(gauth)\n",
        "        self.status= self.status+'and '\n",
        "        \n",
        "    def make_push(self):\n",
        "        ''' Create & upload a file text file.'''\n",
        "        file1 = self.drive.CreateFile({'id':self.get_id()})\n",
        "        file1.SetContentFile(self.zipname+\".zip\")\n",
        "        file1.Upload()\n",
        "        self.status= self.status+'pushed! (id) '\n",
        "\n",
        "    def get_id(self):\n",
        "        query = \"title = '\"+self.zipname+\".zip'\"\n",
        "        file_list = self.drive.ListFile({'q': query}).GetList()\n",
        "        for file in file_list:\n",
        "            if file['labels']['trashed'] ==False:\n",
        "                return file['id']\n",
        "\n",
        "if __name__ == \"__main__\":\n",
        "    item_to = ZipUp('sample_data','/content/drive/My Drive','/content/lib/PyHelpers')\n",
        "    print(item_to.ZipUp)\n"
      ],
      "execution_count": 0,
      "outputs": []
    }
  ]
}
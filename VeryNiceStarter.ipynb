{
  "nbformat": 4,
  "nbformat_minor": 0,
  "metadata": {
    "colab": {
      "name": "VeryNiceStarter.ipynb",
      "provenance": [],
      "private_outputs": true,
      "toc_visible": true,
      "include_colab_link": true
    },
    "kernelspec": {
      "name": "python3",
      "display_name": "Python 3"
    },
    "accelerator": "GPU"
  },
  "cells": [
    {
      "cell_type": "markdown",
      "metadata": {
        "id": "view-in-github",
        "colab_type": "text"
      },
      "source": [
        "<a href=\"https://colab.research.google.com/github/bxck75/Python_Helpers/blob/master/VeryNiceStarter.ipynb\" target=\"_parent\"><img src=\"https://colab.research.google.com/assets/colab-badge.svg\" alt=\"Open In Colab\"/></a>"
      ]
    },
    {
      "cell_type": "markdown",
      "metadata": {
        "id": "-Os2fwogLUKG",
        "colab_type": "text"
      },
      "source": [
        "# helperclass info\n",
        "\n",
        "[Colab Starter Gist](https://gist.github.com/bxck75/21a19bc89876ce0e419fdbf39979d133)"
      ]
    },
    {
      "cell_type": "markdown",
      "metadata": {
        "id": "BRj71HGk6mi_",
        "colab_type": "text"
      },
      "source": [
        "```\n",
        "    'HelpCore)',\n",
        "        'c_d',\n",
        "        'cd',\n",
        "        'cdr',\n",
        "        'check_img_list',\n",
        "        'cleanup_files',\n",
        "        'cloner',\n",
        "        'cprint',\n",
        "        'custom_reps_setup',\n",
        "        'docu',\n",
        "        'explore_mod',\n",
        "        'flickr_scrape',\n",
        "        'get_gdrive_dataset',\n",
        "        'get_other_reps',\n",
        "        'git_install_root',\n",
        "        'haar_detect',\n",
        "        'helpers_root',\n",
        "        'if_exists',\n",
        "        'img_batch_rename',\n",
        "        'importTboard',\n",
        "        'install_repos',\n",
        "        'into_func',\n",
        "        'landmarkdetect',\n",
        "        'landmarkdetecter',\n",
        "        'landmarker',\n",
        "        'list_to_file',\n",
        "        'no_action',\n",
        "        'path',\n",
        "        'rec_walk_folder',\n",
        "        'rep',\n",
        "        'root',\n",
        "        'root_dirname',\n",
        "        'root_filename',\n",
        "        'runProcess',\n",
        "        'set_maker',\n",
        "        'sorted_repos',\n",
        "        'sys_com',\n",
        "        'sys_log',\n",
        "        'system_log_file',\n",
        "        'valid_img',\n",
        "        'valid_list'\n",
        "```"
      ]
    },
    {
      "cell_type": "markdown",
      "metadata": {
        "id": "evLjcPe4LaJf",
        "colab_type": "text"
      },
      "source": [
        "# code"
      ]
    },
    {
      "cell_type": "code",
      "metadata": {
        "id": "6X6efbcB5hmG",
        "colab_type": "code",
        "colab": {}
      },
      "source": [
        "'''#########################################'''\n",
        "#'''       K00B404 aka. BXCK75              '''#\n",
        "'''      notebook/colab kickstarter         '''\n",
        "#''' Look for stuff in main.py in the root  '''#\n",
        "''' Look for defs  in Helpers/core.py file  '''\n",
        "################################################\n",
        "from IPython.display import clear_output as clear\n",
        "from pprint import pprint as print\n",
        "from PIL import Image\n",
        "import cv2\n",
        "import os\n",
        "import sys\n",
        "import json\n",
        "import IPython\n",
        "\n",
        "''' default sample data delete '''\n",
        "os.system('rm -r sample_data')\n",
        "\n",
        "''' set root paths '''\n",
        "root = '/content'\n",
        "gdrive_root = '/content/drive/My Drive'\n",
        "helpers_root = root + '/installed_repos/Python_Helpers'\n",
        "\n",
        "''' setup install the Helpers module '''\n",
        "os.system('git clone https://github.com/bxck75/Python_Helpers.git ' + helpers_root) \n",
        "os.system('python ' + helpers_root + 'setup.py install')\n",
        "\n",
        "''' preset helpers '''\n",
        "os.chdir(helpers_root)\n",
        "import main as main_core\n",
        "MainCore = main_core.main()\n",
        "HelpCore = MainCore.Helpers_Core\n",
        "HC = HelpCore\n",
        "HC.root = root\n",
        "HC.gdrive_root = gdrive_root\n",
        "HC.helpers_root = helpers_root\n",
        "FScrape = HC.flickr_scrape\n",
        "fromGdrive = HC.GdriveD\n",
        "toGdrive = HC.ZipUp.ZipUp\n",
        "\n",
        "\n",
        "''' Clear output '''\n",
        "clear()"
      ],
      "execution_count": 0,
      "outputs": []
    },
    {
      "cell_type": "code",
      "metadata": {
        "id": "5D14rhWY6Av-",
        "colab_type": "code",
        "colab": {}
      },
      "source": [
        "''' Go Home '''\n",
        "HC.c_d('/content/',True)\n",
        "''' Set the scrape details '''\n",
        "search_list = [ 'Zombie Face' ]\n",
        "scrape_run_name = 'images_hobo'\n",
        "quantity=50\n",
        "''' Run the Scraper '''\n",
        "print(HC.FlickrS( search_list, quantity, scrape_run_name ))\n"
      ],
      "execution_count": 0,
      "outputs": []
    },
    {
      "cell_type": "code",
      "metadata": {
        "id": "KC1B2bGR3aUa",
        "colab_type": "code",
        "colab": {}
      },
      "source": [
        "help(HC.Resize.resize_folder)\n",
        "resize_single(src, pad=False, size=256)\n",
        "resize_folder('/root/Bureaublad/data/boefjes/front')\n"
      ],
      "execution_count": 0,
      "outputs": []
    },
    {
      "cell_type": "code",
      "metadata": {
        "id": "EHxNPH8R6cQb",
        "colab_type": "code",
        "colab": {}
      },
      "source": [
        "\n",
        "# HelpCore.haar_detect(img,image_out)\n",
        "# HelpCore.cloner\n",
        "# HelpCore.FlickrS\n",
        "# HelpCore.GlobX\n",
        "# HelpCore.MethHelp\n",
        "# HelpCore.fromGdrive\n",
        "# HelpCore.toGdrive\n",
        "# HelpCore.ShowImg\n",
        "# HelpCore.resize\n",
        "# HelperCore.path_split\n",
        "\n",
        "\n",
        "def path_split(full_path):\n",
        "    r = {}\n",
        "    r['full_path'] = full_path\n",
        "    drive, path_and_file = os.path.splitdrive(full_path)\n",
        "    path, file = os.path.split(path_and_file)\n",
        "    file_name, ext = file.split('.')\n",
        "    r.update({'path': path.split('/')[1:],'file' : file_name, 'ext' : ext})\n",
        "    # del r['path'][0]\n",
        "    return r\n",
        "\n",
        "org_img = '/content/installed_repos/face-recognition/images/Colin_Powell/Colin_Powell_0004.jpg'\n",
        "org_path_dict = path_split(org_img)\n",
        "marked_path_dict = org_path_dict\n",
        "marked_path_dict['path'][len(marked_path_dict['path'])-1] = marked_path_dict['path'][len(marked_path_dict['path'])-1]+'_marked'\n",
        "print(org_path_dict['path'][len(org_path_dict['path'])-1])\n",
        "print(marked_path_dict['path'][len(marked_path_dict['path'])-1])\n",
        "# print(org_path_dict)\n",
        "\n",
        "new_img = org_img.replace('images/','images_marked/').replace('.jpg', '.jpg')\n",
        "os.makedirs(new_img, exist_ok=True)\n",
        "''' Detect the landmarks '''\n",
        "\n",
        "# HelpCore.landmarker( org_img, org_path_dict['path'][:2])"
      ],
      "execution_count": 0,
      "outputs": []
    },
    {
      "cell_type": "code",
      "metadata": {
        "id": "i6UUyiFq9Dp7",
        "colab_type": "code",
        "colab": {}
      },
      "source": [
        "# search_list,img_dir,qty = ['face'], 100, 'images'\n",
        "# HelpCore.FlickrS(search_list,qty,img_dir"
      ],
      "execution_count": 0,
      "outputs": []
    },
    {
      "cell_type": "code",
      "metadata": {
        "id": "Qr14UMd7AgFN",
        "colab_type": "code",
        "colab": {}
      },
      "source": [
        "\n",
        "from icrawler.builtin import BaiduImageCrawler, BingImageCrawler, GoogleImageCrawler\n",
        "\n",
        "def ICL(key='kutkop', qty=100, out_dir='/content/img'):\n",
        "    '''ICL('kutkop', 100, '/content/img')'''\n",
        "    \n",
        "    google_crawler = GoogleImageCrawler(\n",
        "        feeder_threads=1,\n",
        "        parser_threads=1,\n",
        "        downloader_threads=4,\n",
        "        storage={'root_dir': out_dir })\n",
        " \n",
        "    filters = dict(\n",
        "        size='medium',\n",
        "        # color='orange',\n",
        "        # license='commercial,modify',\n",
        "        # date=((2017, 1, 1), (2017, 11, 30)),\n",
        "        )    \n",
        "    google_crawler.crawl(\n",
        "        keyword=key, \n",
        "        filters=filters, \n",
        "        offset=0, \n",
        "        max_num=qty,\n",
        "        min_size=(400,400), \n",
        "        max_size=None, \n",
        "        file_idx_offset=0,\n",
        "        )\n",
        "    bing_crawler = BingImageCrawler(\n",
        "        downloader_threads=4,\n",
        "        storage={'root_dir': out_dir }\n",
        "        )\n",
        "    bing_crawler.crawl(\n",
        "        keyword=key, \n",
        "        filters=None, \n",
        "        offset=0, \n",
        "        max_num=qty\n",
        "        )\n",
        "    baidu_crawler = BaiduImageCrawler(\n",
        "        storage={'root_dir': out_dir }\n",
        "        )\n",
        "    baidu_crawler.crawl(\n",
        "        keyword=key, \n",
        "        offset=0, \n",
        "        max_num=qty,\n",
        "        min_size=(200,200), \n",
        "        max_size=None\n",
        "        )\n"
      ],
      "execution_count": 0,
      "outputs": []
    },
    {
      "cell_type": "code",
      "metadata": {
        "id": "sTGRUHs1dDgm",
        "colab_type": "code",
        "colab": {}
      },
      "source": [
        "# ICL(key='Bodh Gaya', qty=100, out_dir='/content/images_bohdgaya')\n",
        "ICL('vagina', 100, '/content/img_vig')"
      ],
      "execution_count": 0,
      "outputs": []
    },
    {
      "cell_type": "code",
      "metadata": {
        "id": "FbjLpj_vJntT",
        "colab_type": "code",
        "colab": {}
      },
      "source": [
        "import cv2\n",
        "import matplotlib.pyplot as plt\n",
        "img = cv2.imread('/content/images_google/000010.jpg')\n",
        "img = cv2.cvtColor(img, cv2.COLOR_BGR2RGB)\n",
        "plt.imshow(img)\n",
        "\n",
        "from numpy import random\n",
        "import matplotlib.pyplot as plt\n",
        "print(img.shape)\n",
        "data = random.random((5,599999))\n",
        "img = plt.imshow(img)\n",
        "img.set_cmap('tab10')\n",
        "plt.axis('off')\n",
        "plt.figure( num=65, figsize=(100,100), dpi=10, facecolor='blue', edgecolor='red', frameon=False, clear=False )\n",
        "plt.savefig(\"test.png\", bbox_inches='tight')\n",
        "plt.show(size(5,5))"
      ],
      "execution_count": 0,
      "outputs": []
    },
    {
      "cell_type": "code",
      "metadata": {
        "id": "ntXdp4VqRDVl",
        "colab_type": "code",
        "colab": {}
      },
      "source": [
        "img = cv2.cvtColor(img, cv2.COLOR_BGR2RGB)\n",
        "plt.imshow(img_rgb)"
      ],
      "execution_count": 0,
      "outputs": []
    },
    {
      "cell_type": "code",
      "metadata": {
        "id": "59ulBLBjR6sl",
        "colab_type": "code",
        "colab": {}
      },
      "source": [
        "dir(cv2)"
      ],
      "execution_count": 0,
      "outputs": []
    },
    {
      "cell_type": "code",
      "metadata": {
        "id": "fieSXPkdbv2d",
        "colab_type": "code",
        "colab": {}
      },
      "source": [
        "help(plt.imshow)"
      ],
      "execution_count": 0,
      "outputs": []
    },
    {
      "cell_type": "code",
      "metadata": {
        "id": "0Z1lo3g6Ra6X",
        "colab_type": "code",
        "colab": {}
      },
      "source": [
        "os.chdir('/content')\n",
        "import cv2\n",
        "\n",
        "img_path='/content/images_google/000005.jpg'\n",
        "img = cv2.imread(img_path)\n",
        "detector = cv2.FastFeatureDetector_create()\n",
        "\n",
        "# plt.figure(1)\n",
        "# img = cv2.cvtColor( img, cv2.COLOR_BGR2Luv)\n",
        "# plt.axis('off')\n",
        "# plt.imshow(img)\n",
        "\n",
        "plt.figure(1)\n",
        "img_rgb = cv2.cvtColor(img, cv2.COLOR_BGR2RGB)\n",
        "plt.axis('off')\n",
        "plt.title=''\n",
        "plt.imshow(img_rgb)\n",
        "# img save\n",
        "cv2.imwrite('final_image.png',img)\n",
        "plt.show\n",
        "plt.figure(2)\n",
        "# lege image\n",
        "image_blank = np.zeros(shape=(512,512,3),dtype=np.int16)\n",
        "plt.imshow(image_blank)\n",
        "plt.axis('off')\n",
        "plt.show\n",
        "cv2.destroyAllWindows()"
      ],
      "execution_count": 0,
      "outputs": []
    },
    {
      "cell_type": "markdown",
      "metadata": {
        "id": "Vq2uGrS6NwHE",
        "colab_type": "text"
      },
      "source": [
        "Accent, Accent_r, Blues, Blues_r, BrBG, BrBG_r, BuGn, BuGn_r, BuPu, BuPu_r, CMRmap, CMRmap_r, Dark2, Dark2_r, GnBu, GnBu_r, Greens, Greens_r, Greys, Greys_r, OrRd, OrRd_r, Oranges, Oranges_r, PRGn, PRGn_r, Paired, Paired_r, Pastel1, Pastel1_r, Pastel2, Pastel2_r, PiYG, PiYG_r, PuBu, PuBuGn, PuBuGn_r, PuBu_r, PuOr, PuOr_r, PuRd, PuRd_r, Purples, Purples_r, RdBu, RdBu_r, RdGy, RdGy_r, RdPu, RdPu_r, RdYlBu, RdYlBu_r, RdYlGn, RdYlGn_r, Reds, Reds_r, Set1, Set1_r, Set2, Set2_r, Set3, Set3_r, Spectral, Spectral_r, Wistia, Wistia_r, YlGn, YlGnBu, YlGnBu_r, YlGn_r, YlOrBr, YlOrBr_r, YlOrRd, YlOrRd_r, afmhot, afmhot_r, autumn, autumn_r, binary, binary_r, bone, bone_r, brg, brg_r, bwr, bwr_r, cividis, cividis_r, cool, cool_r, coolwarm, coolwarm_r, copper, copper_r, cubehelix, cubehelix_r, flag, flag_r, gist_earth, gist_earth_r, gist_gray, gist_gray_r, gist_heat, gist_heat_r, gist_ncar, gist_ncar_r, gist_rainbow, gist_rainbow_r, gist_stern, gist_stern_r, gist_yarg, gist_yarg_r, gnuplot, gnuplot2, gnuplot2_r, gnuplot_r, gray, gray_r, hot, hot_r, hsv, hsv_r, inferno, inferno_r, jet, jet_r, magma, magma_r, nipy_spectral, nipy_spectral_r, ocean, ocean_r, pink, pink_r, plasma, plasma_r, prism, prism_r, rainbow, rainbow_r, seismic, seismic_r, spring, spring_r, summer, summer_r, tab10, tab10_r, tab20, tab20_r, tab20b, tab20b_r, tab20c, tab20c_r, terrain, terrain_r, twilight, twilight_r, twilight_shifted, twilight_s...\n"
      ]
    },
    {
      "cell_type": "code",
      "metadata": {
        "id": "TIwLR64RXGco",
        "colab_type": "code",
        "colab": {}
      },
      "source": [
        "import sys\n",
        "import os\n",
        "import dlib\n",
        "import glob\n",
        "import cv2\n",
        "import numpy as np\n",
        "import dlib\n",
        "\n",
        "cap = cv2.VideoCapture(0)\n",
        "\n",
        "detector = dlib.get_frontal_face_detector()\n",
        "predictor = dlib.shape_predictor(\"shape_predictor_68_face_landmarks.dat\")\n",
        "\n",
        "while True:\n",
        "    _, frame = cap.read()\n",
        "    gray = cv2.cvtColor(frame, cv2.COLOR_BGR2GRAY)\n",
        "\n",
        "    faces = detector(gray)\n",
        "    for face in faces:\n",
        "        x1 = face.left()\n",
        "        y1 = face.top()\n",
        "        x2 = face.right()\n",
        "        y2 = face.bottom()\n",
        "        #cv2.rectangle(frame, (x1, y1), (x2, y2), (0, 255, 0), 3)\n",
        "\n",
        "        landmarks = predictor(gray, face)\n",
        "\n",
        "        for n in range(0, 68):\n",
        "            x = landmarks.part(n).x\n",
        "            y = landmarks.part(n).y\n",
        "            cv2.circle(frame, (x, y), 4, (255, 0, 0), -1)\n",
        "\n",
        "\n",
        "    cv2.imshow(\"Frame\", frame)\n",
        "\n",
        "    key = cv2.waitKey(1)\n",
        "    if key == 27:\n",
        "        break"
      ],
      "execution_count": 0,
      "outputs": []
    },
    {
      "cell_type": "markdown",
      "metadata": {
        "id": "x3nN2ycM8itX",
        "colab_type": "text"
      },
      "source": [
        "```\n",
        " 'Colab_root',\n",
        " 'ColorPrint',\n",
        " 'FileView',\n",
        " 'FlickrS',\n",
        " 'GdriveD',\n",
        " 'Gdrive_root',\n",
        " 'GlobX',\n",
        " 'GooScrape',\n",
        " 'ImgCrawler',\n",
        " 'ImgTools',\n",
        " 'LogGER',\n",
        " 'Logger',\n",
        " 'MethHelp',\n",
        " 'Ops',\n",
        " 'Repo_List',\n",
        " 'Resize',\n",
        " 'Sys_Cmd',\n",
        " 'Sys_Exec',\n",
        " 'ZipUp',\n",
        "```"
      ]
    },
    {
      "cell_type": "markdown",
      "metadata": {
        "id": "IavB8R6c_Xag",
        "colab_type": "text"
      },
      "source": [
        "```\n",
        "Help on method flickr_scrape in module Helpers.core:\n",
        "\n",
        "flickr_scrape(query=['portrait'], qty=5, dest='/content/images') method of Helpers.core.Core instance\n",
        "    Example:\n",
        "        search_list,img_dir,qty = ['portait','face'], 'images', 21\n",
        "        flickr_scrape(search_list,qty,img_dir)\n",
        "```"
      ]
    },
    {
      "cell_type": "code",
      "metadata": {
        "id": "73UZFOk2Gism",
        "colab_type": "code",
        "colab": {}
      },
      "source": [
        "# HelpCore.GlobX('/content/images_bohdgaya', '*.*g')\n",
        "# from pydrive.auth import GoogleAuth\n",
        "# from pydrive.drive import GoogleDrive\n",
        "\n",
        "# def GFoldeR(mode='show', file ,folder='/content')\n",
        "#     gauth = GoogleAuth()\n",
        "#     gauth.LocalWebserverAuth()\n",
        "#     drive = GoogleDrive(gauth)\n",
        "#     if mode == 'create':\n",
        "#         # Create folder.\n",
        "#         folder_metadata = {\n",
        "#             'title' : '<your folder name here>',\n",
        "#             # The mimetype defines this new file as a folder, so don't change this.\n",
        "#             'mimeType' : 'application/vnd.google-apps.folder'\n",
        "#         }\n",
        "#         folder = drive.CreateFile(folder_metadata)\n",
        "#         folder.Upload()\n",
        "#     if mode == 'info':\n",
        "#     # Get folder info and print to screen.\n",
        "#     folder_title = folder['title']\n",
        "#     folder_id = folder['id']\n",
        "#     print('title: %s, id: %s' % (folder_title, folder_id))\n",
        "#     if mode == 'upload':\n",
        "#     # Upload file to folder.\n",
        "#     f = drive.CreateFile({\"parents\": [{\"kind\": \"drive#fileLink\", \"id\": folder_id}]})\n",
        "\n",
        "#     # Make sure to add the path to the file to upload below.\n",
        "#     f.SetContentFile('<file path here>')\n",
        "#     f.Upload()\n"
      ],
      "execution_count": 0,
      "outputs": []
    },
    {
      "cell_type": "code",
      "metadata": {
        "id": "IPS_BiaGIFbL",
        "colab_type": "code",
        "colab": {}
      },
      "source": [
        "# import random\n",
        "# import numpy as np\n",
        "# import cv2 as cv\n",
        "\n",
        "# frame1 = cv.imread(cv.samples.findFile('lena.jpg'))\n",
        "# if frame1 is None:\n",
        "#     print(\"image not found\")\n",
        "#     exit()\n",
        "# frame = np.vstack((frame1,frame1))\n",
        "# facemark = cv.face.createFacemarkLBF()\n",
        "# try:\n",
        "#     facemark.loadModel(cv.samples.findFile('lbfmodel.yaml'))\n",
        "# except cv.error:\n",
        "#     print(\"Model not found\\nlbfmodel.yaml can be download at\")\n",
        "#     print(\"https://raw.githubusercontent.com/kurnianggoro/GSOC2017/master/data/lbfmodel.yaml\")\n",
        "# cascade = cv.CascadeClassifier(cv.samples.findFile('lbpcascade_frontalface_improved.xml'))\n",
        "# if cascade.empty() :\n",
        "#     print(\"cascade not found\")\n",
        "#     exit()\n",
        "# faces = cascade.detectMultiScale(frame, 1.05,  3, cv.CASCADE_SCALE_IMAGE, (30, 30))\n",
        "# ok, landmarks = facemark.fit(frame, faces=faces)\n",
        "# cv.imshow(\"Image\", frame)\n",
        "# for marks in landmarks:\n",
        "#     couleur = (random.randint(0,255),\n",
        "#                random.randint(0,255),\n",
        "#                random.randint(0,255))\n",
        "#     cv.face.drawFacemarks(frame, marks, couleur)\n",
        "# cv.imshow(\"Image Landmarks\", frame)\n",
        "# cv.waitKey()\n"
      ],
      "execution_count": 0,
      "outputs": []
    }
  ]
}
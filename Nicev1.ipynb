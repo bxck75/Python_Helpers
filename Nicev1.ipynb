{
  "nbformat": 4,
  "nbformat_minor": 0,
  "metadata": {
    "colab": {
      "name": "Nicev1.ipynb",
      "provenance": [],
      "private_outputs": true,
      "include_colab_link": true
    },
    "kernelspec": {
      "name": "python3",
      "display_name": "Python 3"
    }
  },
  "cells": [
    {
      "cell_type": "markdown",
      "metadata": {
        "id": "view-in-github",
        "colab_type": "text"
      },
      "source": [
        "<a href=\"https://colab.research.google.com/github/bxck75/Python_Helpers/blob/master/Nicev1.ipynb\" target=\"_parent\"><img src=\"https://colab.research.google.com/assets/colab-badge.svg\" alt=\"Open In Colab\"/></a>"
      ]
    },
    {
      "cell_type": "markdown",
      "metadata": {
        "id": "BRj71HGk6mi_",
        "colab_type": "text"
      },
      "source": [
        "```\n",
        "    'HelpCore)',\n",
        "        'c_d',\n",
        "        'cd',\n",
        "        'cdr',\n",
        "        'check_img_list',\n",
        "        'cleanup_files',\n",
        "        'cloner',\n",
        "        'cprint',\n",
        "        'custom_reps_setup',\n",
        "        'docu',\n",
        "        'explore_mod',\n",
        "        'flickr_scrape',\n",
        "        'get_gdrive_dataset',\n",
        "        'get_other_reps',\n",
        "        'git_install_root',\n",
        "        'haar_detect',\n",
        "        'helpers_root',\n",
        "        'if_exists',\n",
        "        'img_batch_rename',\n",
        "        'importTboard',\n",
        "        'install_repos',\n",
        "        'into_func',\n",
        "        'landmarkdetect',\n",
        "        'landmarkdetecter',\n",
        "        'landmarker',\n",
        "        'list_to_file',\n",
        "        'no_action',\n",
        "        'path',\n",
        "        'rec_walk_folder',\n",
        "        'rep',\n",
        "        'root',\n",
        "        'root_dirname',\n",
        "        'root_filename',\n",
        "        'runProcess',\n",
        "        'set_maker',\n",
        "        'sorted_repos',\n",
        "        'sys_com',\n",
        "        'sys_log',\n",
        "        'system_log_file',\n",
        "        'valid_img',\n",
        "        'valid_list'\n",
        "```"
      ]
    },
    {
      "cell_type": "code",
      "metadata": {
        "id": "6X6efbcB5hmG",
        "colab_type": "code",
        "colab": {}
      },
      "source": [
        "'''#########################################'''\n",
        "#'''       K00B404 aka. BXCK75              '''#\n",
        "'''      notebook/colab kickstarter         '''\n",
        "#''' Look for stuff in main.py in the root  '''#\n",
        "''' Look for defs  in Helpers/core.py file  '''\n",
        "################################################\n",
        "from IPython.display import clear_output as clear\n",
        "from pprint import pprint as print\n",
        "from PIL import Image\n",
        "import os\n",
        "import sys\n",
        "import json\n",
        "import IPython\n",
        "\n",
        "''' default sample data delete '''\n",
        "os.system('rm -r sample_data')\n",
        "\n",
        "''' set root paths '''\n",
        "root = '/content'\n",
        "gdrive_root = '/content/drive/My Drive'\n",
        "helpers_root = root + '/installed_repos/Python_Helpers'\n",
        "\n",
        "''' setup install the Helpers module '''\n",
        "os.system('git clone https://github.com/bxck75/Python_Helpers.git ' + helpers_root) \n",
        "os.system('python ' + helpers_root + 'setup.py install')\n",
        "\n",
        "''' import helpers '''\n",
        "os.chdir(helpers_root)\n",
        "import main as main_core\n",
        "MainCore = main_core.main()\n",
        "HelpCore = MainCore.Helpers_Core\n",
        "FScrape = HelpCore.flickr_scrape\n",
        "fromGdrive = HelpCore.GdriveD\n",
        "toGdrive = HelpCore.ZipUp.ZipUp\n",
        "''' Clear output '''\n",
        "clear()"
      ],
      "execution_count": 0,
      "outputs": []
    },
    {
      "cell_type": "code",
      "metadata": {
        "id": "EHxNPH8R6cQb",
        "colab_type": "code",
        "colab": {}
      },
      "source": [
        "dir(HelpCore)"
      ],
      "execution_count": 0,
      "outputs": []
    }
  ]
}
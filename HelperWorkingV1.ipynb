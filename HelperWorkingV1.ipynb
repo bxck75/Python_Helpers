{
  "nbformat": 4,
  "nbformat_minor": 0,
  "metadata": {
    "colab": {
      "name": "HelperWorkingV1.ipynb",
      "provenance": [],
      "private_outputs": true,
      "include_colab_link": true
    },
    "kernelspec": {
      "name": "python3",
      "display_name": "Python 3"
    }
  },
  "cells": [
    {
      "cell_type": "markdown",
      "metadata": {
        "id": "view-in-github",
        "colab_type": "text"
      },
      "source": [
        "<a href=\"https://colab.research.google.com/github/bxck75/Python_Helpers/blob/master/HelperWorkingV1.ipynb\" target=\"_parent\"><img src=\"https://colab.research.google.com/assets/colab-badge.svg\" alt=\"Open In Colab\"/></a>"
      ]
    },
    {
      "cell_type": "code",
      "metadata": {
        "id": "1e4m1qa2Fgn1",
        "colab_type": "code",
        "colab": {}
      },
      "source": [
        "# remove defaults\n",
        "!rm -r sample_data\n",
        "# Clone the frame\n",
        "!git clone https://github.com/bxck75/Python_Helpers.git\n",
        "# Change dir\n",
        "%cd /content/Python_Helpers\n",
        "# install\n",
        "!python setup.py install\n",
        "import main\n",
        "import IPython\n",
        "from IPython.display import clear_output\n",
        "clear_output()"
      ],
      "execution_count": 0,
      "outputs": []
    },
    {
      "cell_type": "code",
      "metadata": {
        "id": "kNLr2TDoGVgX",
        "colab_type": "code",
        "colab": {}
      },
      "source": [
        "M=main\n",
        "M.help=M.sample.BigHelp.Helpers()\n",
        "M.zip=M.sample.ZipUp.ZipUp\n",
        "M.help_func = []\n",
        "\n",
        "M.help_func.append(M.help.Me(['vdir']))\n",
        "M.help_func.append(M.help.Me(['vdir',[IPython.terminal.magics.Magics]]))\n",
        "M.help_func.append(M.help.Me(['vdir',[IPython]]))\n",
        "# print(M.help_func)\n",
        "magics_func=M.help_func[2][0]\n",
        "print(magics_func[1])"
      ],
      "execution_count": 0,
      "outputs": []
    },
    {
      "cell_type": "code",
      "metadata": {
        "id": "dTNnFtCLSRSr",
        "colab_type": "code",
        "colab": {}
      },
      "source": [
        "import pandas as pd\n",
        "categories = [['fast_food', 'restaurant'], ['coffee', 'cafe'], ['burger', 'restaurant']]\n",
        "counts = [137, 176, 390]\n",
        "df = pd.DataFrame({'categories': [magics_func[0]], 'review_count': [magics_func[1]]})\n",
        "# Show which rows contain 'restaurant'\n",
        "# df.categories.map(lambda x: 'restaurant' in x)\n",
        "# Subset the dataframe using this:\n",
        "df[df.categories.map(lambda x: ',' in x)]\n",
        "df"
      ],
      "execution_count": 0,
      "outputs": []
    },
    {
      "cell_type": "code",
      "metadata": {
        "id": "Vpl1dkt3Ktjd",
        "colab_type": "code",
        "colab": {}
      },
      "source": [
        "# get 2 images from flickr\n",
        "M.help.Me(['flickr',['portait'],'/content/images',2])\n",
        "# see if they are downloaded\n",
        "img_list = M.help.Me(['globx','/content/images','*.jpg'])\n",
        "print(len(img_list))"
      ],
      "execution_count": 0,
      "outputs": []
    }
  ]
}
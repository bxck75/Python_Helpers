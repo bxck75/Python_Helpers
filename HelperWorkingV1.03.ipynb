{
  "nbformat": 4,
  "nbformat_minor": 0,
  "metadata": {
    "colab": {
      "name": "HelperWorkingV1.ipynb",
      "provenance": [],
      "private_outputs": true,
      "include_colab_link": true
    },
    "kernelspec": {
      "name": "python3",
      "display_name": "Python 3"
    }
  },
  "cells": [
    {
      "cell_type": "markdown",
      "metadata": {
        "id": "view-in-github",
        "colab_type": "text"
      },
      "source": [
        "<a href=\"https://colab.research.google.com/github/bxck75/Python_Helpers/blob/master/HelperWorkingV1.03.ipynb\" target=\"_parent\"><img src=\"https://colab.research.google.com/assets/colab-badge.svg\" alt=\"Open In Colab\"/></a>"
      ]
    },
    {
      "cell_type": "code",
      "metadata": {
        "id": "1e4m1qa2Fgn1",
        "colab_type": "code",
        "colab": {}
      },
      "source": [
        "# remove defaults\n",
        "!rm -r sample_data\n",
        "# Clone the frame\n",
        "!git clone https://github.com/bxck75/Python_Helpers.git\n",
        "# Change dir\n",
        "%cd /content/Python_Helpers\n",
        "\n",
        "# install\n",
        "!python setup.py install\n",
        "import main\n",
        "import IPython\n",
        "from IPython.display import clear_output\n",
        "clear_output()"
      ],
      "execution_count": 0,
      "outputs": []
    },
    {
      "cell_type": "code",
      "metadata": {
        "id": "kNLr2TDoGVgX",
        "colab_type": "code",
        "colab": {}
      },
      "source": [
        "# Small demo of same functionality\n",
        "M=main\n",
        "M.help=M.sample.BigHelp.Helpers()\n",
        "M.logger = M.sample.logger\n",
        "M.zip=M.sample.ZipUp\n",
        "M.all_repos = M.sample.RepCoList\n",
        "M.download_gdrive_file = M.sample.GdriveD\n",
        "M.resize_folder=M.sample.resize.resize_folder\n",
        "\n",
        "# logger\n",
        "M.logger.get_logger('Debug_Log','/content/Python_Helpers/debug_log.txt',True)\n",
        "M.logger.logging.basicConfig()\n",
        "M.logger.logging.log(1,'TestLog')\n",
        "\n",
        "# M.training_set_builder \n",
        "M.reps_to_install=['bxck75/piss-ant-pix2pix','affinelayer/pix2pix-tensorflow']\n",
        "M.help.Me(['inst_reps',M.reps_to_install,'/content/pix2pix_repos',False,True])\n",
        "# M.help.Me(['inst_reps',M.all_repos.reps,'/content/ml_repos',True,True])\n",
        "\n",
        "\n"
      ],
      "execution_count": 0,
      "outputs": []
    },
    {
      "cell_type": "code",
      "metadata": {
        "id": "TEKB3yk-DZVb",
        "colab_type": "code",
        "colab": {}
      },
      "source": [
        "\n",
        "# print(M.help.Me(['vdir',[M.zip]]))\n",
        "help(M.sample)\n",
        "# M.zip.ZipUp('tools','/content/pix2pix_repos/piss-ant-pix2pix/tools','/content/drive/My\\ Drive')"
      ],
      "execution_count": 0,
      "outputs": []
    },
    {
      "cell_type": "code",
      "metadata": {
        "id": "3hVdkyCKBaGX",
        "colab_type": "code",
        "colab": {}
      },
      "source": [
        "!cp -r /content/pix2pix_repos/piss-ant-pix2pix/tools /content/Python_Helpers/sample\n",
        "# Change dir\n",
        "%cd /content/Python_Helpers\n",
        "\n",
        "# install\n",
        "!python setup.py install"
      ],
      "execution_count": 0,
      "outputs": []
    },
    {
      "cell_type": "code",
      "metadata": {
        "id": "Vpl1dkt3Ktjd",
        "colab_type": "code",
        "colab": {}
      },
      "source": [
        "# get 20 images from flickr\n",
        "search_list = ['portait']\n",
        "M.help.Me(['flickr',search_list,'/content/images',10])\n",
        "# see if they are downloaded\n",
        "img_list = M.help.Me(['globx','/content/images','*.jpg'])\n",
        "print(len(img_list))\n",
        "# M.resize.resize_folder('/content/images')\n",
        "i=0\n",
        "# M.help.Me(['cml','rm -r /content/images'])\n",
        "for img in img_list:\n",
        "    print(img)\n",
        "    M.help.Me(['cml','cp '+img+' /content/images/img_%d.jpg'%(i+1)])\n",
        "    i+=1\n",
        "print(str(i)+' images copied!')\n",
        "\n",
        "M.help.Me(['cml','rm -r /content/images/flickr'])\n",
        "M.help.Me(['cml','python /content/pix2pix_repos/piss-ant-pix2pix/tools/process.py --input_dir /content/images --operation resize --output_dir /content/images_resized'])\n",
        "M.help.Me(['cml','python /content/pix2pix_repos/piss-ant-pix2pix/tools/process.py --input_dir /content/images --operation blank --output_dir /content/images_resized'])\n",
        "\n",
        "\n"
      ],
      "execution_count": 0,
      "outputs": []
    }
  ]
}
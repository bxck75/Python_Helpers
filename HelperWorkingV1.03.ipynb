{
  "nbformat": 4,
  "nbformat_minor": 0,
  "metadata": {
    "colab": {
      "name": "HelperWorkingV1.ipynb",
      "provenance": [],
      "private_outputs": true,
      "include_colab_link": true
    },
    "kernelspec": {
      "name": "python3",
      "display_name": "Python 3"
    },
    "accelerator": "GPU"
  },
  "cells": [
    {
      "cell_type": "markdown",
      "metadata": {
        "id": "view-in-github",
        "colab_type": "text"
      },
      "source": [
        "<a href=\"https://colab.research.google.com/github/bxck75/Python_Helpers/blob/master/HelperWorkingV1.03.ipynb\" target=\"_parent\"><img src=\"https://colab.research.google.com/assets/colab-badge.svg\" alt=\"Open In Colab\"/></a>"
      ]
    },
    {
      "cell_type": "code",
      "metadata": {
        "id": "1e4m1qa2Fgn1",
        "colab_type": "code",
        "colab": {}
      },
      "source": [
        "# remove defaults\n",
        "!rm -r sample_data\n",
        "# Clone the frame\n",
        "!git clone https://github.com/bxck75/Python_Helpers.git\n",
        "# Change dir\n",
        "%cd /content/Python_Helpers\n",
        "\n",
        "# install\n",
        "!python setup.py install\n",
        "import main\n",
        "import os\n",
        "import sys\n",
        "import IPython\n",
        "from IPython.display import clear_output\n",
        "D=main.Helpers.core.Core()\n",
        "hlp=D.H\n",
        "clear_output()"
      ],
      "execution_count": 0,
      "outputs": []
    },
    {
      "cell_type": "markdown",
      "metadata": {
        "id": "odeY7BZ9nSA7",
        "colab_type": "text"
      },
      "source": [
        "Init the M object with main and adding the BigHelp to get the main system functionality\n",
        "after that we add some more functions to M"
      ]
    },
    {
      "cell_type": "code",
      "metadata": {
        "id": "TEKB3yk-DZVb",
        "colab_type": "code",
        "colab": {}
      },
      "source": [
        "# x=dir(D)\n",
        "# D.landmark_face = hlp.landmarkdetect\n",
        "# hlp.Me(['vdir',[hlp.landmarkdetect]])\n",
        "# hlp.Me(['flickr',['portrait'],'images',10])\n",
        "dir(hlp.flickr_scr)\n",
        "help(hlp.flickr_scr)\n",
        "img_dir='images'\n",
        "qty=10\n",
        "search_list = ['portait','face']\n",
        "hlp.flickr_scr(search_list,img_dir,qty)\n",
        "dir(hlp)\n",
        "# print(x)\n",
        "# hlp.flickr_scr.__subclasshook__()"
      ],
      "execution_count": 0,
      "outputs": []
    },
    {
      "cell_type": "code",
      "metadata": {
        "id": "yX0lmor8S12Y",
        "colab_type": "code",
        "colab": {}
      },
      "source": [
        "\n",
        "print(hlp.flickr_dest)\n",
        "print(hlp.flickr_qty)\n",
        "print(hlp.flickr_query)\n",
        "print(hlp.setmaker)\n",
        "help(hlp.flickr_scr.__getattribute__)"
      ],
      "execution_count": 0,
      "outputs": []
    },
    {
      "cell_type": "code",
      "metadata": {
        "id": "kNLr2TDoGVgX",
        "colab_type": "code",
        "colab": {}
      },
      "source": [
        "# Small demo of some functionality\n",
        "M=main\n",
        "M.root_dirname, M.root_filename = os.path.split(os.path.abspath(M.__file__))\n",
        "M.help = M.Helpers.BigHelp.Helpers()\n",
        "M.logger = M.Helpers.logger\n",
        "M.zip_to_drive = M.Helpers.ZipUp\n",
        "M.all_repos = M.Helpers.RepCoList\n",
        "M.download_gdrive_file = M.Helpers.GdriveD\n",
        "M.resize_folder = M.Helpers.resize.resize_folder\n",
        "# M.image_process = M.Helpers.process\n",
        "\n",
        "# logger\n",
        "M.logger.get_logger('Debug_Log',str(M.root_dirname)+'/debug_log.txt',True)\n",
        "M.logger.logging.basicConfig()\n",
        "M.logger.logging.log(1,'TestLog')\n",
        "\n",
        "# M.training_set_builder \n",
        "M.reps_to_install=['bxck75/piss-ant-pix2pix','affinelayer/pix2pix-tensorflow']\n",
        "M.help.Me(['inst_reps',M.reps_to_install,str(M.root_dirname)+'/pix2pix_repos',False,True])\n",
        "# M.help.Me(['inst_reps',M.all_repos.reps,'/content/all_ml_repos',True,True])"
      ],
      "execution_count": 0,
      "outputs": []
    },
    {
      "cell_type": "code",
      "metadata": {
        "id": "Vpl1dkt3Ktjd",
        "colab_type": "code",
        "colab": {}
      },
      "source": [
        "exit\n",
        "# get 20 images from flickr\n",
        "search_list = ['portait']\n",
        "M.help.Me(['flickr',search_list,str(M.root_dirname)+'/images',10])\n",
        "# see if they are downloaded\n",
        "img_list = M.help.Me(['globx',str(M.root_dirname)+'/images','*.jpg'])\n",
        "print(len(img_list))\n",
        "# M.resize.resize_folder(str(M.root_dirname)+'/images')\n",
        "i=0\n",
        "# M.help.Me(['cml','rm -r '+str(M.root_dirname)+'/images'])\n",
        "for img in img_list:\n",
        "    print(img)\n",
        "    M.help.Me(['cml','cp '+img+' '+str(M.root_dirname)+'/images/img_%d.jpg'%(i+1)])\n",
        "    i+=1\n",
        "print(str(i)+' images copied!')\n",
        "M.help.Me(['cml','rm -r '+str(M.root_dirname)+'/images/flickr'])"
      ],
      "execution_count": 0,
      "outputs": []
    },
    {
      "cell_type": "code",
      "metadata": {
        "id": "E2wRNg6tdvjf",
        "colab_type": "code",
        "colab": {}
      },
      "source": [
        "\n",
        "def setmaker(_in_,_mode_,_out_):\n",
        "#     global r\n",
        "    M.help.Me(['cml','python '+str(M.root_dirname)+'/tools/process.py --input_dir '+str(_in_)+' --operation resize --output_dir '+str(M.root_dirname)+'/images_resized'])\n",
        "#     os.system('python '+str(M.root_dirname)+'/tools/process.py --input_dir '+str(_in_)+' --operation resize --output_dir '+str(M.root_dirname)+'/images_resized')\n",
        "    M.help.Me(['cml','echo python '+str(M.root_dirname)+'/tools/process.py --input_dir '+str(M.root_dirname)+'/images_resized --operation blank --output_dir '+str(M.root_dirname)+'/images_blank'])\n",
        "#     os.system('python '+str(M.root_dirname)+'/tools/process.py --input_dir '+str(M.root_dirname)+'/images_resized --operation blank --output_dir '+str(M.root_dirname)+'/images_blank')\n",
        "    M.help.Me(['cml','echo python '+str(M.root_dirname)+'/tools/process.py --input_dir '+str(M.root_dirname)+'/images_resized --operation edge --output_dir '+str(M.root_dirname)+'/images_edge'])\n",
        "#     os.system('python '+str(M.root_dirname)+'/tools/process.py --input_dir '+str(M.root_dirname)+'/images_resized --operation edge --output_dir '+str(M.root_dirname)+'/images_edge')\n",
        "    \n",
        "    if _mode_ != '':\n",
        "        M.help.Me(['cml','echo python ' + str(M.root_dirname)+'/tools/process.py --input_dir ' + str(M.root_dirname)+'/images_' + _mode_ +' --operation combine --output_dir ' + str(_out_)])\n",
        "#         os.system('echo python ' + str(M.root_dirname)+'/tools/process.py \\\n",
        "#             --input_dir ' + str(M.root_dirname)+'/images_' + _mode_ + ' \\\n",
        "#             --operation combine \\\n",
        "#             --output_dir ' + str(_out_))\n",
        "\n",
        "M.setmaker = setmaker\n",
        "# M.setmaker.mode_type = 'edge' # blank\n",
        "# M.setmaker.img_dir = str(M.root_dirname)+'/images'\n",
        "# M.setmaker.final_set_dir = str(M.root_dirname)+'/images_set'\n",
        "# print(M.setmaker)\n",
        "M.setmaker(str(M.root_dirname)+'/images', 'edge', str(M.root_dirname)+'/images_set')"
      ],
      "execution_count": 0,
      "outputs": []
    },
    {
      "cell_type": "code",
      "metadata": {
        "id": "XOfKdwMkwiRe",
        "colab_type": "code",
        "colab": {}
      },
      "source": [
        "!python {str(M.root_dirname)}/Helpers/process.py --input_dir {str(M.root_dirname)}images_resized --operation blank --output_dir {str(M.root_dirname)}/images_resized"
      ],
      "execution_count": 0,
      "outputs": []
    },
    {
      "cell_type": "code",
      "metadata": {
        "id": "Law-t_-9wznY",
        "colab_type": "code",
        "colab": {}
      },
      "source": [
        "!zip -r PH.zip {str(M.root_dirname)}Python_Helpers/"
      ],
      "execution_count": 0,
      "outputs": []
    }
  ]
}
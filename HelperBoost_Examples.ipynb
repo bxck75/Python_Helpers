{
  "nbformat": 4,
  "nbformat_minor": 0,
  "metadata": {
    "colab": {
      "name": "HelperBoost_Examples.ipynb",
      "provenance": [],
      "private_outputs": true,
      "toc_visible": true,
      "include_colab_link": true
    },
    "kernelspec": {
      "name": "python3",
      "display_name": "Python 3"
    },
    "accelerator": "GPU"
  },
  "cells": [
    {
      "cell_type": "markdown",
      "metadata": {
        "id": "view-in-github",
        "colab_type": "text"
      },
      "source": [
        "<a href=\"https://colab.research.google.com/github/bxck75/Python_Helpers/blob/master/HelperBoost_Examples.ipynb\" target=\"_parent\"><img src=\"https://colab.research.google.com/assets/colab-badge.svg\" alt=\"Open In Colab\"/></a>"
      ]
    },
    {
      "cell_type": "markdown",
      "metadata": {
        "id": "6UaB9UjED1_M",
        "colab_type": "text"
      },
      "source": [
        "# Setup\n",
        "## [https://colab.research.google.com/github/bxck75/Python_Helpers/blob/master/HelperBoost_Examples.ipynb](https://colab.research.google.com/github/bxck75/Python_Helpers/blob/master/HelperBoost_Examples.ipynb)"
      ]
    },
    {
      "cell_type": "code",
      "metadata": {
        "colab_type": "code",
        "id": "vubx26C3e6Jx",
        "colab": {}
      },
      "source": [
        "# remove defaults\n",
        "!rm -r sample_data\n",
        "# Clone the repo\n",
        "!git clone https://github.com/bxck75/Python_Helpers.git\n",
        "\n",
        "# Change dir\n",
        "%cd /content/Python_Helpers\n",
        "# install\n",
        "!python setup.py install\n",
        "\n",
        "from IPython.display import clear_output\n",
        "import main\n",
        "import os\n",
        "import sys\n",
        "import IPython\n",
        "P=main.Helpers.core.Core()\n",
        "\n",
        "hlp=P.H\n",
        "\n",
        "\n",
        "clear_output()"
      ],
      "execution_count": 0,
      "outputs": []
    },
    {
      "cell_type": "markdown",
      "metadata": {
        "id": "odeY7BZ9nSA7",
        "colab_type": "text"
      },
      "source": [
        "Init the M object with main and adding the BigHelp to get the main system functionality\n",
        "after that we add some more functions to M"
      ]
    },
    {
      "cell_type": "markdown",
      "metadata": {
        "id": "ty934ZKlDrIO",
        "colab_type": "text"
      },
      "source": [
        "# Flickrscrape"
      ]
    },
    {
      "cell_type": "code",
      "metadata": {
        "id": "TEKB3yk-DZVb",
        "colab_type": "code",
        "colab": {}
      },
      "source": [
        "# dir(hlp.flickr_scr)\n",
        "# help(hlp)\n",
        "img_dir='images'\n",
        "qty=100\n",
        "search_list = ['portait','face']\n",
        "hlp.flickr_scr(search_list,qty,img_dir)\n",
        "# hlp.Me(['vdir',[hlp.flickr_scr]])\n",
        "# print(x)\n",
        "# hlp.flickr_scr.__subclasshook__()"
      ],
      "execution_count": 0,
      "outputs": []
    },
    {
      "cell_type": "markdown",
      "metadata": {
        "id": "t_x3mdFuDUEq",
        "colab_type": "text"
      },
      "source": [
        "# Tensorflow!"
      ]
    },
    {
      "cell_type": "code",
      "metadata": {
        "id": "jGgSirnEwXRD",
        "colab_type": "code",
        "colab": {}
      },
      "source": [
        "# dir(hlp.repo_collection)\n",
        "hlp.repolist= hlp.repo_collection\n",
        "# for i in hlp.repo_collection.__reversed__():\n",
        "#     print(i)\n",
        "repos_sorted = hlp.repo_collection.repos_sorted\n",
        "bxck75_repos = repos_sorted[14:17]\n",
        "tf_repos = repos_sorted[57:61]\n",
        "A1=['bxck75/piss-ant-pix2pix']\n",
        "pix2pix_repos=[\n",
        "#                 'TheRevanchist/pytorch-CycleGAN-and-pix2pix',\n",
        "               'affinelayer/pix2pix-tensorflow',\n",
        "               'junyanz/pytorch-CycleGAN-and-pix2pix',\n",
        "               'NVIDIA/pix2pixHD',\n",
        "               'pfnet-research/chainer-pix2pix',\n",
        "               'Eyyub/tensorflow-pix2pix']\n",
        "A1\n",
        "hlp.Me(['inst_reps',A1,'/content/installed_repos',False,True])\n",
        "# hlp.Me(['inst_reps',repos_sorted,'/content/installed_repos',False,True])\n",
        "# hlp.Me(['inst_reps',pix2pix_repos,'/content/installed_repos',False,True])\n",
        "# hlp.Me(['inst_reps',tf_repos,'/content/installed_repos',False,True])"
      ],
      "execution_count": 0,
      "outputs": []
    },
    {
      "cell_type": "code",
      "metadata": {
        "id": "8TSgwCcl1Yo3",
        "colab_type": "code",
        "colab": {}
      },
      "source": [
        "%cd /content/installed_repos/piss-ant-pix2pix\n",
        "!bash image_folder_make_set_train_colab.sh /content/Python_Helpers/images 1 prep"
      ],
      "execution_count": 0,
      "outputs": []
    },
    {
      "cell_type": "code",
      "metadata": {
        "id": "2Rnut3v1ztj9",
        "colab_type": "code",
        "colab": {}
      },
      "source": [
        "def loadTboard():\n",
        "    '''load tensorboard'''\n",
        "    import datetime, os ,tensorboard\n",
        "    # install tensorboard\n",
        "    hlp.Me(['cml','pip install -q tensorflow'])\n",
        "    # Load the TensorBoard notebook extension\n",
        "    try:\n",
        "        %load_ext tensorboard\n",
        "    except:\n",
        "        %reload_ext tensorboard\n",
        "        \n",
        "loadTboard()\n",
        "# %tensorboard --logdir logs"
      ],
      "execution_count": 0,
      "outputs": []
    },
    {
      "cell_type": "code",
      "metadata": {
        "id": "nVyK5NXX1Ce6",
        "colab_type": "code",
        "colab": {}
      },
      "source": [
        "%tensorboard --logdir /content/Python_Helpers/imagesimages/metrics"
      ],
      "execution_count": 0,
      "outputs": []
    },
    {
      "cell_type": "markdown",
      "metadata": {
        "id": "nw08QyfM-xEU",
        "colab_type": "text"
      },
      "source": [
        "aspect_ratio = 1.0\n",
        "batch_size = 1\n",
        "beta1 = 0.5\n",
        "checkpoint = None\n",
        "display_freq = 0\n",
        "flip = True\n",
        "gan_weight = 1.0\n",
        "input_dir = /content/Python_Helpers/imagesimages/_combined/train_resize/_combined/train\n",
        "l1_weight = 0.0\n",
        "lab_colorization = False\n",
        "lr = 5e-05\n",
        "max_epochs = 2\n",
        "max_steps = None\n",
        "mode = train\n",
        "ndf = 64\n",
        "ngf = 64\n",
        "output_dir = /content/Python_Helpers/imagesimages/_combined/train_train\n",
        "patch_gan = 1\n",
        "progress_freq = 50\n",
        "save_freq = 100000\n",
        "scale_size = 266\n",
        "seed = 0\n",
        "skip_connection = 1\n",
        "summary_freq = 100\n",
        "trace_freq = 0\n",
        "wgan = 1\n",
        "which_direction = BtoA"
      ]
    },
    {
      "cell_type": "code",
      "metadata": {
        "id": "HLUeoIVOrr0L",
        "colab_type": "code",
        "colab": {}
      },
      "source": [
        "\n",
        "!python pix2pix.py --mode train \\\n",
        "    --output_dir /content/Python_Helpers/imagesimages/metrics --max_epochs 1 \\\n",
        "    --input_dir /content/Python_Helpers/imagesimages/_combined/train --which_direction BtoA \\\n",
        "    --display_freq 50 --progress_freq 10 --save_freq 10 --seed 666 --skip_connection 1 --summary_freq 10\n",
        "\n",
        "# !bash image_folder_make_set_train_colab.sh /content/Python_Helpers/imagesimages/_combined/train 2 train\n",
        "\n",
        "# --progress_freq 10 --save_freq 10 --seed 666 --skip_connection = 1 --summary_freq = 10"
      ],
      "execution_count": 0,
      "outputs": []
    },
    {
      "cell_type": "code",
      "metadata": {
        "id": "o8jStJ24IzGE",
        "colab_type": "code",
        "colab": {}
      },
      "source": [
        "!python pix2pix.py --mode train \\\n",
        "    --checkpoint /content/Python_Helpers/imagesimages/metrics \\\n",
        "    --output_dir /content/Python_Helpers/imagesimages/metrics --max_epochs 1 \\\n",
        "    --input_dir /content/Python_Helpers/imagesimages/_combined/train --which_direction BtoA \\\n",
        "    --display_freq 50 --progress_freq 10 --save_freq 25 --seed 666 --skip_connection 1 --summary_freq 10\n"
      ],
      "execution_count": 0,
      "outputs": []
    },
    {
      "cell_type": "code",
      "metadata": {
        "id": "FbwU7K_rLZQ2",
        "colab_type": "code",
        "colab": {}
      },
      "source": [
        "!zip /content/checkpoint_pix2pix.zip /content/Python_Helpers/imagesimages/metrics/*"
      ],
      "execution_count": 0,
      "outputs": []
    },
    {
      "cell_type": "markdown",
      "metadata": {
        "id": "MhuIwxtrD9XK",
        "colab_type": "text"
      },
      "source": [
        "# Experiments"
      ]
    },
    {
      "cell_type": "code",
      "metadata": {
        "id": "zCo9jmBSuojQ",
        "colab_type": "code",
        "colab": {}
      },
      "source": [
        "# list command snippets\n",
        "\n",
        "vdir_self=        ['vdir']\n",
        "vdir_helpers=     ['vdir',[hlp]]\n",
        "gal_extr=         ['cml','gallery-dl --list-extractors |grep ','flickr']\n",
        "gal_help=         ['cml','gallery-dl -h']\n",
        "fl_scrp=          ['flickr','abstract','/content/custom_images',5]\n",
        "flickr_scrape=    ['flickr','portrait','/content/custom_images',10]\n",
        "gdrive=           ['cml','cd \"/content/drive/My Drive/Colab Notebooks\"']\n",
        "makefolders=      ['mkd',['custom_images'],'/content']\n",
        "cmd_line=         ['cml','ls -l',True]\n",
        "pip_install_all=  ['cml',\"pip install -e . |grep 'succes'\",True]\n",
        "globber=          ['globx','/content/installed_repos','*.jpg']\n",
        "gitgo=            ['inst_reps',['bxck75/pytorch-CycleGAN-and-pix2pix'],'/content/installed_repos',False,True]\n",
        "gitgo_colab=      ['inst_reps',[hlp.repo_collection[17],hlp.repo_collection[18],hlp.repo_collection[21]],'/content/installed_repos',False,True]\n",
        "pip_install=      ['pip',['fnmatch','gallery-dl']]\n",
        "pip_install_setup=['pip',[\"-e . |grep 'succes'\"]]"
      ],
      "execution_count": 0,
      "outputs": []
    },
    {
      "cell_type": "code",
      "metadata": {
        "id": "FY9L6bnztul7",
        "colab_type": "code",
        "colab": {}
      },
      "source": [
        "hlp.flickr_dest = '/content/clowns'\n",
        "hlp.flickr_query = ['Clowns']\n",
        "hlp.flickr_qty = 5\n",
        "hlp.flickr_scr(qty=hlp.flickr_qty, query=hlp.flickr_query, dest=hlp.flickr_dest)\n",
        "\n",
        "clear_output()"
      ],
      "execution_count": 0,
      "outputs": []
    },
    {
      "cell_type": "code",
      "metadata": {
        "id": "yX0lmor8S12Y",
        "colab_type": "code",
        "colab": {}
      },
      "source": [
        "print(hlp.flickr_dest)\n",
        "print(hlp.flickr_qty)\n",
        "print(hlp.flickr_query)\n",
        "dir(hlp.Me)\n",
        "hlp.Me(['vdir'])\n",
        "# hlp.flickr_scr( query=hlp.flickr_query )"
      ],
      "execution_count": 0,
      "outputs": []
    },
    {
      "cell_type": "code",
      "metadata": {
        "id": "w4qGU4u-w5ws",
        "colab_type": "code",
        "colab": {}
      },
      "source": [
        "# ['_globx',hlp.flickr_dest,'*.jpg']\n",
        "imglist= hlp.Me(['globx', hlp.flickr_dest, '*.jpg'])\n",
        "print(imglist)"
      ],
      "execution_count": 0,
      "outputs": []
    },
    {
      "cell_type": "code",
      "metadata": {
        "id": "C2J8QLAS0MmJ",
        "colab_type": "code",
        "colab": {}
      },
      "source": [
        "        # M.training_set_builder \n",
        "        hlp.reps_to_install=['bxck75/piss-ant-pix2pix','affinelayer/pix2pix-tensorflow']\n",
        "        hlp.Me(['inst_reps',hlp.reps_to_install,str(hlp.root_dirname)+'/pix2pix_repos',False,True])\n",
        "        # M.help.Me(['inst_reps',M.all_repos.reps,'/content/all_ml_repos',True,True])"
      ],
      "execution_count": 0,
      "outputs": []
    },
    {
      "cell_type": "code",
      "metadata": {
        "id": "d0GSGeDX0MLV",
        "colab_type": "code",
        "colab": {}
      },
      "source": [
        ""
      ],
      "execution_count": 0,
      "outputs": []
    }
  ]
}
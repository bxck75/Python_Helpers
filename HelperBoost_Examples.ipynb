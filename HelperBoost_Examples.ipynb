{
  "nbformat": 4,
  "nbformat_minor": 0,
  "metadata": {
    "colab": {
      "name": "HelperBoost_Examples.ipynb",
      "provenance": [],
      "private_outputs": true,
      "include_colab_link": true
    },
    "kernelspec": {
      "name": "python3",
      "display_name": "Python 3"
    }
  },
  "cells": [
    {
      "cell_type": "markdown",
      "metadata": {
        "id": "view-in-github",
        "colab_type": "text"
      },
      "source": [
        "<a href=\"https://colab.research.google.com/github/bxck75/Python_Helpers/blob/master/HelperBoost_Examples.ipynb\" target=\"_parent\"><img src=\"https://colab.research.google.com/assets/colab-badge.svg\" alt=\"Open In Colab\"/></a>"
      ]
    },
    {
      "cell_type": "markdown",
      "metadata": {
        "id": "6UaB9UjED1_M",
        "colab_type": "text"
      },
      "source": [
        "# Setup\n",
        "## [https://colab.research.google.com/github/bxck75/Python_Helpers/blob/master/HelperBoost_Examples.ipynb](https://colab.research.google.com/github/bxck75/Python_Helpers/blob/master/HelperBoost_Examples.ipynb)"
      ]
    },
    {
      "cell_type": "code",
      "metadata": {
        "colab_type": "code",
        "id": "vubx26C3e6Jx",
        "colab": {}
      },
      "source": [
        "# remove defaults\n",
        "!rm -r sample_data\n",
        "# Clone the repo\n",
        "!git clone https://github.com/bxck75/Python_Helpers.git\n",
        "# Change dir\n",
        "%cd /content/Python_Helpers\n",
        "# install\n",
        "!python setup.py install\n",
        "\n",
        "from IPython.display import clear_output\n",
        "clear_output()"
      ],
      "execution_count": 0,
      "outputs": []
    },
    {
      "cell_type": "code",
      "metadata": {
        "id": "rGp6nJNyfJdg",
        "colab_type": "code",
        "colab": {}
      },
      "source": [
        "import main\n",
        "import os\n",
        "import sys\n",
        "import IPython\n",
        "P=main.Helpers.core.Core()\n",
        "\n",
        "hlp=P.H\n",
        "\n",
        "clear_output()"
      ],
      "execution_count": 0,
      "outputs": []
    },
    {
      "cell_type": "markdown",
      "metadata": {
        "id": "odeY7BZ9nSA7",
        "colab_type": "text"
      },
      "source": [
        "Init the M object with main and adding the BigHelp to get the main system functionality\n",
        "after that we add some more functions to M"
      ]
    },
    {
      "cell_type": "markdown",
      "metadata": {
        "id": "ty934ZKlDrIO",
        "colab_type": "text"
      },
      "source": [
        "# Flickrscrape"
      ]
    },
    {
      "cell_type": "code",
      "metadata": {
        "id": "TEKB3yk-DZVb",
        "colab_type": "code",
        "colab": {}
      },
      "source": [
        "# dir(hlp.flickr_scr)\n",
        "# help(hlp)\n",
        "img_dir='images'\n",
        "qty=10\n",
        "search_list = ['portait','face']\n",
        "hlp.flickr_scr(search_list,qty,img_dir)\n",
        "# hlp.Me(['vdir',[hlp.flickr_scr]])\n",
        "# print(x)\n",
        "# hlp.flickr_scr.__subclasshook__()"
      ],
      "execution_count": 0,
      "outputs": []
    },
    {
      "cell_type": "markdown",
      "metadata": {
        "id": "t_x3mdFuDUEq",
        "colab_type": "text"
      },
      "source": [
        "# Tensorflow!"
      ]
    },
    {
      "cell_type": "code",
      "metadata": {
        "id": "jGgSirnEwXRD",
        "colab_type": "code",
        "colab": {}
      },
      "source": [
        "# dir(hlp.repo_collection)\n",
        "hlp.repolist= hlp.repo_collection\n",
        "# for i in hlp.repo_collection.__reversed__():\n",
        "#     print(i)\n",
        "repos_sorted = hlp.repo_collection.repos_sorted\n",
        "bxck75_repos = repos_sorted[14:17]\n",
        "tf_repos = repos_sorted[57:61]\n",
        "tf_repos\n",
        "hlp.Me(['inst_reps',tf_repos,'/content/installed_repos',False,True])"
      ],
      "execution_count": 0,
      "outputs": []
    },
    {
      "cell_type": "markdown",
      "metadata": {
        "id": "MhuIwxtrD9XK",
        "colab_type": "text"
      },
      "source": [
        "# Experiments"
      ]
    },
    {
      "cell_type": "code",
      "metadata": {
        "id": "zCo9jmBSuojQ",
        "colab_type": "code",
        "colab": {}
      },
      "source": [
        "# list command snippets\n",
        "\n",
        "vdir_self=        ['vdir']\n",
        "vdir_helpers=     ['vdir',[hlp]]\n",
        "gal_extr=         ['cml','gallery-dl --list-extractors |grep ','flickr']\n",
        "gal_help=         ['cml','gallery-dl -h']\n",
        "fl_scrp=          ['flickr','abstract','/content/custom_images',5]\n",
        "flickr_scrape=    ['flickr','portrait','/content/custom_images',10]\n",
        "gdrive=           ['cml','cd \"/content/drive/My Drive/Colab Notebooks\"']\n",
        "makefolders=      ['mkd',['custom_images'],'/content']\n",
        "cmd_line=         ['cml','ls -l',True]\n",
        "pip_install_all=  ['cml',\"pip install -e . |grep 'succes'\",True]\n",
        "globber=          ['globx','/content/installed_repos','*.jpg']\n",
        "gitgo=            ['inst_reps',['bxck75/pytorch-CycleGAN-and-pix2pix'],'/content/installed_repos',False,True]\n",
        "gitgo_colab=      ['inst_reps',[hlp.repo_collection[17],hlp.repo_collection[18],hlp.repo_collection[21]],'/content/installed_repos',False,True]\n",
        "pip_install=      ['pip',['fnmatch','gallery-dl']]\n",
        "pip_install_setup=['pip',[\"-e . |grep 'succes'\"]]"
      ],
      "execution_count": 0,
      "outputs": []
    },
    {
      "cell_type": "code",
      "metadata": {
        "id": "FY9L6bnztul7",
        "colab_type": "code",
        "colab": {}
      },
      "source": [
        "hlp.flickr_dest = '/content/clowns'\n",
        "hlp.flickr_query = ['Clowns']\n",
        "hlp.flickr_qty = 5\n",
        "hlp.flickr_scr(qty=hlp.flickr_qty, query=hlp.flickr_query, dest=hlp.flickr_dest)\n",
        "\n",
        "clear_output()"
      ],
      "execution_count": 0,
      "outputs": []
    },
    {
      "cell_type": "code",
      "metadata": {
        "id": "yX0lmor8S12Y",
        "colab_type": "code",
        "colab": {}
      },
      "source": [
        "print(hlp.flickr_dest)\n",
        "print(hlp.flickr_qty)\n",
        "print(hlp.flickr_query)\n",
        "dir(hlp.Me)\n",
        "hlp.Me(['vdir'])\n",
        "# hlp.flickr_scr( query=hlp.flickr_query )"
      ],
      "execution_count": 0,
      "outputs": []
    },
    {
      "cell_type": "code",
      "metadata": {
        "id": "w4qGU4u-w5ws",
        "colab_type": "code",
        "colab": {}
      },
      "source": [
        "# ['_globx',hlp.flickr_dest,'*.jpg']\n",
        "imglist= hlp.Me(['globx', hlp.flickr_dest, '*.jpg'])\n",
        "print(imglist)"
      ],
      "execution_count": 0,
      "outputs": []
    },
    {
      "cell_type": "code",
      "metadata": {
        "id": "C2J8QLAS0MmJ",
        "colab_type": "code",
        "colab": {}
      },
      "source": [
        "        # M.training_set_builder \n",
        "        hlp.reps_to_install=['bxck75/piss-ant-pix2pix','affinelayer/pix2pix-tensorflow']\n",
        "        hlp.Me(['inst_reps',hlp.reps_to_install,str(hlp.root_dirname)+'/pix2pix_repos',False,True])\n",
        "        # M.help.Me(['inst_reps',M.all_repos.reps,'/content/all_ml_repos',True,True])"
      ],
      "execution_count": 0,
      "outputs": []
    },
    {
      "cell_type": "code",
      "metadata": {
        "id": "d0GSGeDX0MLV",
        "colab_type": "code",
        "colab": {}
      },
      "source": [
        ""
      ],
      "execution_count": 0,
      "outputs": []
    }
  ]
}
{
  "nbformat": 4,
  "nbformat_minor": 0,
  "metadata": {
    "colab": {
      "name": "topper.ipynb",
      "provenance": [],
      "private_outputs": true,
      "collapsed_sections": [],
      "include_colab_link": true
    },
    "kernelspec": {
      "name": "python3",
      "display_name": "Python 3"
    }
  },
  "cells": [
    {
      "cell_type": "markdown",
      "metadata": {
        "id": "view-in-github",
        "colab_type": "text"
      },
      "source": [
        "<a href=\"https://colab.research.google.com/github/bxck75/Python_Helpers/blob/master/topper.ipynb\" target=\"_parent\"><img src=\"https://colab.research.google.com/assets/colab-badge.svg\" alt=\"Open In Colab\"/></a>"
      ]
    },
    {
      "cell_type": "code",
      "metadata": {
        "id": "cB9SswR-kDbh",
        "colab_type": "code",
        "colab": {}
      },
      "source": [
        "''' install 3dparty sheit '''\n",
        "from IPython.display import clear_output as cle\n",
        "from pprint import pprint as print\n",
        "from PIL import Image\n",
        "import os\n",
        "import sys\n",
        "import json\n",
        "import IPython\n",
        "\n",
        "''' default sample data delete '''\n",
        "os.system('rm -r sample_data')\n",
        "\n",
        "''' set root paths '''\n",
        "root = '/content'\n",
        "gdrive_root = '/content/drive/My Drive'\n",
        "helpers_root = root + '/installed_repos/Python_Helpers'\n",
        "\n",
        "''' setup install the Helpers module '''\n",
        "os.system('git clone https://github.com/bxck75/Python_Helpers.git ' + helpers_root) \n",
        "os.system('python ' + helpers_root + 'setup.py install')\n",
        "\n",
        "''' import helpers '''\n",
        "os.chdir(helpers_root)\n",
        "import main as main_core\n",
        "MainCore = main_core.main()\n",
        "HelpCore = MainCore.Helpers_Core\n",
        "FScrape = HelpCore.flickr_scrape\n",
        "fromGdrive = HelpCore.GdriveD\n",
        "toGdrive = HelpCore.ZipUp.ZipUp\n",
        "\n",
        "cle()"
      ],
      "execution_count": 0,
      "outputs": []
    },
    {
      "cell_type": "code",
      "metadata": {
        "id": "A5DvXT_is0Nf",
        "colab_type": "code",
        "colab": {}
      },
      "source": [
        "dir(HelpCore)\n",
        "FScrape(['Ork','Troll','Dragon'], 25, '/content/images')\n",
        "imgs_path_list = HelpCore.GlobX(img_dir,'*.*g')\n",
        "print(imgs_path_list)"
      ],
      "execution_count": 0,
      "outputs": []
    },
    {
      "cell_type": "code",
      "metadata": {
        "id": "rNKA9iB0X4JX",
        "colab_type": "code",
        "colab": {}
      },
      "source": [
        "dir(HelpCore)"
      ],
      "execution_count": 0,
      "outputs": []
    },
    {
      "cell_type": "code",
      "metadata": {
        "id": "xx_W9cfGb9tm",
        "colab_type": "code",
        "colab": {}
      },
      "source": [
        "print(MainCore.Helpers_Core.cloner('/content/images'))"
      ],
      "execution_count": 0,
      "outputs": []
    },
    {
      "cell_type": "code",
      "metadata": {
        "id": "9hBdoxHv6EX0",
        "colab_type": "code",
        "colab": {}
      },
      "source": [
        "# def LandMarks(img_dir,out_dir):\n",
        "#     ''' Folder glob and Landmark all found imgs '''\n",
        "#     imgs_path_list = HelpCore.GlobX(img_dir,'*.*g')\n",
        "#     imgs_path_list.sort()\n",
        "    \n",
        "#     i=0\n",
        "#     for i in range(len(imgs_path_list)):\n",
        "#         ''' make folders '''\n",
        "\n",
        "#         img_pathAr = imgs_path_list[i]\n",
        "#         # img_pathAr.Split(Path.DirectorySeparatorChar)  # returns array of the path\n",
        "#         # img_pathAr.Lenth - 2\n",
        "#         # print(img_pathAr[2])\n",
        "        \n",
        "#         os.system('mkdir -p '+os.path.join(out_dir,'/org'))\n",
        "#         os.system('mkdir -p '+os.path.join(out_dir,'/marked'))\n",
        "#         ''' backup original '''\n",
        "#         os.system('cp imgs_path_list[i] '+out_dir + '/org')\n",
        "#         ''' loop over images '''\n",
        "#         img = cv.imread(imgs_path_list[i])\n",
        "#         for c, w, h in img.shape:\n",
        "#             print(3, w, h)\n",
        "#         if img is None:\n",
        "#             print('Failed to load image file:', fname)\n",
        "#             sys.exit(1)\n",
        "#             fork_img = img\n",
        "#         ''' Mark the image '''\n",
        "#         gray = cv.cvtColor(img, cv.COLOR_BGR2GRAY)\n",
        "#         lsd = cv.line_descriptor_LSDDetector.createLSDDetector()\n",
        "#         lines = lsd.detect(gray, 1, 1)\n",
        "#         for kl in lines:\n",
        "#             if kl.octave == 0:\n",
        "#                 pt1 = (int(kl.startPointX), int(kl.startPointY))\n",
        "#                 pt2 = (int(kl.endPointX), int(kl.endPointY))\n",
        "#                 cv.line(fork_img, pt1, pt2, [255, 0, 0], 2)\n",
        "\n",
        "\n",
        "#         cv.waitKey(0)\n",
        "#         cv.destroyAllWindows()\n",
        "#         cv.imwrite('nice.jpg',img)\n",
        "#         # marked\n",
        "#         cv.imwrite('nice.jpg',img)\n",
        "#         i += 1"
      ],
      "execution_count": 0,
      "outputs": []
    },
    {
      "cell_type": "code",
      "metadata": {
        "id": "kqhhF5Wu_F-P",
        "colab_type": "code",
        "colab": {}
      },
      "source": [
        "# def org_n_marked_clone(img_path,id=0):\n",
        "#     ''' backup the originals '''\n",
        "#     drive, path_and_file = os.path.splitdrive(img_path)\n",
        "#     path, file = os.path.split(path_and_file)\n",
        "#     fi, ex = file.split(.)\n",
        "#     fi.rstrip(string.digits)\n",
        "\n",
        "#     ''' compose the new paths '''\n",
        "#     org_path =       path +        '/org/' + fi + '_%d' %  id\n",
        "#     marked_path =       path +     '/marked/' + fi + '_%d' %  id\n",
        "#     '''   return the list   '''\n",
        "#     return [org_path,marked_path]\n",
        "\n",
        "\n",
        "# org_n_marked_clone('/content/images/img_1.jpg')"
      ],
      "execution_count": 0,
      "outputs": []
    },
    {
      "cell_type": "code",
      "metadata": {
        "id": "Cd7meSb3QGVL",
        "colab_type": "code",
        "colab": {}
      },
      "source": [
        "os.path.join( path+'/org', file )"
      ],
      "execution_count": 0,
      "outputs": []
    },
    {
      "cell_type": "code",
      "metadata": {
        "id": "y9dDHh9ltjga",
        "colab_type": "code",
        "colab": {}
      },
      "source": [
        "import sys\n",
        "import cv2 as cv\n",
        "\n",
        "if __name__ == '__main__':\n",
        "    print(__doc__)\n",
        "\n",
        "    fname = '/content/images/img_1.jpg'\n",
        "\n",
        "    img = cv.imread(fname)\n",
        "\n",
        "    if img is None:\n",
        "        print('Failed to load image file:', fname)\n",
        "        sys.exit(1)\n",
        "\n",
        "    gray = cv.cvtColor(img, cv.COLOR_BGR2GRAY)\n",
        "\n",
        "    lsd = cv.line_descriptor_LSDDetector.createLSDDetector()\n",
        "\n",
        "    lines = lsd.detect(gray, 1, 1)\n",
        "    for kl in lines:\n",
        "        if kl.octave == 0:\n",
        "            # cv.line only accepts integer coordinate\n",
        "            pt1 = (int(kl.startPointX), int(kl.startPointY))\n",
        "            pt2 = (int(kl.endPointX), int(kl.endPointY))\n",
        "            cv.line(img, pt1, pt2, [255, 0, 0], 2)\n",
        "\n",
        "    # plt.imshow('output', img)\n",
        "    cv.waitKey(0)\n",
        "    cv.destroyAllWindows()\n",
        "    cv.imwrite('nice.jpg',img)"
      ],
      "execution_count": 0,
      "outputs": []
    },
    {
      "cell_type": "code",
      "metadata": {
        "id": "8syIK9wYtEhn",
        "colab_type": "code",
        "colab": {}
      },
      "source": [
        "from google.colab import drive\n",
        "drive.mount('/content/drive')"
      ],
      "execution_count": 0,
      "outputs": []
    },
    {
      "cell_type": "code",
      "metadata": {
        "id": "pr-RJU7JmoxD",
        "colab_type": "code",
        "colab": {}
      },
      "source": [
        "help(HelpCore)"
      ],
      "execution_count": 0,
      "outputs": []
    },
    {
      "cell_type": "code",
      "metadata": {
        "id": "7JhyIayjmV9x",
        "colab_type": "code",
        "colab": {}
      },
      "source": [
        "help(FScrape)\n",
        "# search_list,img_dir,qty = ['zombie'], 'images', 21\n",
        "# FScrape(search_list,qty,img_dir)\n",
        "funcs=[\n",
        "    'BigHelp',\n",
        "    'Colab_root',\n",
        "    'ColorPrint',\n",
        "    'FileView',\n",
        "    'FlickrS',\n",
        "    'GdriveD',\n",
        "    'Gdrive_root',\n",
        "    'GlobX',\n",
        "    'GooScrape',\n",
        "    'ImgCrawler',\n",
        "    'ImgTools',\n",
        "    'LogGER',\n",
        "    'Logger',\n",
        "    'MethHelp',\n",
        "    'Ops',\n",
        "    'Repo_List',\n",
        "    'Resize',\n",
        "    'Sys_Cmd',\n",
        "    'Sys_Exec',\n",
        "    'ZipUp',\n",
        "    ]\n",
        "\n",
        "def img_show_folder(folder):\n",
        "    # fname = '/content/images/img_1.jpg'\n",
        "    folder_path = Path(folder)\n",
        "    GlobX(folder_path,'*.*g')\n",
        "    for base, dirs, files in os.walk('/content/images'):\n",
        "        files.sort()\n",
        "        for i in range(len(files)):\n",
        "            print(base+'/'+files[i])\n",
        "            img = cv.imread(base+'/'+files[i])\n",
        "            plt.imshow(img,cmap=dark2)\n",
        "            plt.show()\n",
        "\n",
        "HelpCore.GlobX('/content/images','*.*g')\n",
        "# search_list, img_dir, qty = ['zombie'], 'images', 200\n",
        "\n",
        "# FScrape(search_list, qty, img_dir)"
      ],
      "execution_count": 0,
      "outputs": []
    },
    {
      "cell_type": "code",
      "metadata": {
        "id": "7W5LoDpOkvsn",
        "colab_type": "code",
        "colab": {}
      },
      "source": [
        "# toGdrive('cv2_samples','/content/drive/My Drive','/content/installed_repos/opencv/samples')\n",
        "# Load zipper\n",
        "# Zipper = toGdrive.GdriveD\n",
        "# Zip folder\n",
        "# images_set_name, gdrive_folder, folder_to_zip = 'cv2_samples', '/content/drive/My Drive', '/content/installed_repos/opencv/samples'\n",
        "# result=Zipper(images_set_name,gdrive_folder,folder_to_zip).ZipUp\n",
        "# Print Resulting hash\n",
        "print(result)\n",
        "dir(toGdrive)\n",
        "# HelpCore.GlobX('/content', '*.py')"
      ],
      "execution_count": 0,
      "outputs": []
    },
    {
      "cell_type": "code",
      "metadata": {
        "id": "HhDkbfAfmDZJ",
        "colab_type": "code",
        "colab": {}
      },
      "source": [
        "!python /content/installed_repos/opencv/samples/dnn/segmentation.py --zoo  --input --framework 'tensorflow'"
      ],
      "execution_count": 0,
      "outputs": []
    },
    {
      "cell_type": "code",
      "metadata": {
        "id": "UVmCkODAlkcM",
        "colab_type": "code",
        "colab": {}
      },
      "source": [
        "%cd /content/installed_repos/opencv/samples/dnn\n",
        "!cat segmentation.py"
      ],
      "execution_count": 0,
      "outputs": []
    },
    {
      "cell_type": "markdown",
      "metadata": {
        "id": "BRApK6wNlqef",
        "colab_type": "text"
      },
      "source": [
        "parser = argparse.ArgumentParser(add_help=False)\n",
        "parser.add_argument('--zoo', default=os.path.join(os.path.dirname(os.path.abspath(__file__)), 'models.yml'),\n",
        "                    help='An optional path to file with preprocessing parameters.')\n",
        "parser.add_argument('--input', help='Path to input image or video file. Skip this argument to capture frames from a camera.')\n",
        "parser.add_argument('--framework', choices=['caffe', 'tensorflow', 'torch', 'darknet'],\n",
        "                    help='Optional name of an origin framework of the model. '\n",
        "                         'Detect it automatically if it does not set.')\n",
        "parser.add_argument('--colors', help='Optional path to a text file with colors for an every class. '\n",
        "                                     'An every color is represented with three values from 0 to 255 in BGR channels order.')\n",
        "parser.add_argument('--backend', choices=backends, default=cv.dnn.DNN_BACKEND_DEFAULT, type=int,\n",
        "                    help=\"Choose one of computation backends: \"\n",
        "                         \"%d: automatically (by default), \"\n",
        "                         \"%d: Halide language (http://halide-lang.org/), \"\n",
        "                         \"%d: Intel's Deep Learning Inference Engine (https://software.intel.com/openvino-toolkit), \"\n",
        "                         \"%d: OpenCV implementation\" % backends)\n",
        "parser.add_argument('--target', choices=targets, default=cv.dnn.DNN_TARGET_CPU, type=int,\n",
        "                    help='Choose one of target computation devices: '\n",
        "                         '%d: CPU target (by default), '\n",
        "                         '%d: OpenCL, '\n",
        "                         '%d: OpenCL fp16 (half-float precision), '\n",
        "                         '%d: VPU' % targets)\n",
        "args, _ = parser.parse_known_args()\n"
      ]
    },
    {
      "cell_type": "code",
      "metadata": {
        "id": "KJjkekLtX0ds",
        "colab_type": "code",
        "colab": {}
      },
      "source": [
        "# !wget https://drive.google.com/open?id=1KNfN-ktxbPJMtmdiL-I1WW0IO1B_2EG2\n",
        "# landmarks_file=['1KNfN-ktxbPJMtmdiL-I1WW0IO1B_2EG2','/content/shape_predictor_68_face_landmarks.dat']\n",
        "# fromGdrive.GdriveD(landmarks_file[0],landmarks_file[1])\n",
        "import cv2\n",
        "import numpy\n",
        "import dlib\n",
        "import matplotlib.pyplot as plt\n",
        "\n",
        "# cap = cv2.VideoCapture(0)\n",
        "\n",
        "detector = dlib.get_frontal_face_detector()\n",
        "predictor = dlib.shape_predictor(\"/content/shape_predictor_68_face_landmarks.dat\")\n",
        "\n",
        "while True:\n",
        "    _, frame = cap.read()\n",
        "    gray = cv2.cvtColor(frame, cv2.COLOR_BGR2GRAY)\n",
        "\n",
        "    faces = detector(gray)\n",
        "    for face in faces:\n",
        "        x1 = face.left()\n",
        "        y1 = face.top()\n",
        "        x2 = face.right()\n",
        "        y2 = face.bottom()\n",
        "        #cv2.rectangle(frame, (x1, y1), (x2, y2), (0, 255, 0), 3)\n",
        "\n",
        "        landmarks = predictor(gray, face)\n",
        "\n",
        "        for n in range(0, 68):\n",
        "            x = landmarks.part(n).x\n",
        "            y = landmarks.part(n).y\n",
        "            cv2.circle(frame, (x, y), 4, (255, 0, 0), -1)\n",
        "\n",
        "\n",
        "    plt.imshow(\"Frame\", frame)\n",
        "\n",
        "    key = cv2.waitKey(1)\n",
        "    if key == 27:\n",
        "        break\n",
        "cap.release()\n",
        "cv2.destroyAllWindows()\n"
      ],
      "execution_count": 0,
      "outputs": []
    },
    {
      "cell_type": "code",
      "metadata": {
        "id": "QrwaLHwSd4iM",
        "colab_type": "code",
        "colab": {}
      },
      "source": [
        "''' install 3dparty sheit '''\n",
        "from IPython.display import clear_output as cle\n",
        "from pprint import pprint as print\n",
        "from PIL import Image\n",
        "import os\n",
        "import sys\n",
        "import json\n",
        "import IPython\n",
        "\n",
        "''' default sample data delete '''\n",
        "os.system('rm -r sample_data')\n",
        "\n",
        "''' set root paths '''\n",
        "root = '/content'\n",
        "gdrive_root = '/content/drive/My Drive'\n",
        "helpers_root = root + '/installed_repos/Python_Helpers'\n",
        "\n",
        "''' setup install the Helpers module '''\n",
        "os.system('git clone https://github.com/bxck75/Python_Helpers.git ' + helpers_root) \n",
        "os.system('python ' + helpers_root + 'setup.py install')\n"
      ],
      "execution_count": 0,
      "outputs": []
    },
    {
      "cell_type": "code",
      "metadata": {
        "id": "Mz9O-osNd-iX",
        "colab_type": "code",
        "colab": {}
      },
      "source": [
        "os.chdir(helpers_root)\n",
        "from main import main\n",
        "landmarks_68_file = '1KNfN-ktxbPJMtmdiL-I1WW0IO1B_2EG2'\n",
        "landmarks_194_file = '1fMOT_0f5clPbZXsphZyrGcLXkIhSDl3o'"
      ],
      "execution_count": 0,
      "outputs": []
    },
    {
      "cell_type": "code",
      "metadata": {
        "id": "01emtX-2pbA2",
        "colab_type": "code",
        "colab": {}
      },
      "source": [
        "os.chdir(root)\n",
        "\n",
        "images_set_name, gdrive_folder, folder_to_zip = 'cv2_samples', '/content/installed_repos/opencv/samples/dnn/*', '/content/drive/My Drive'\n",
        "results=HelpCore.ZipUp.ZipUp(images_set_name,gdrive_folder,folder_to_zip).ZipUp\n",
        "print(results)"
      ],
      "execution_count": 0,
      "outputs": []
    },
    {
      "cell_type": "code",
      "metadata": {
        "id": "Nx4hTITLqcXQ",
        "colab_type": "code",
        "colab": {}
      },
      "source": [
        "!zip -r cv2_examples.zip /content/installed_repos/opencv/samples/dnn /content/installed_repos/opencv/samples/python"
      ],
      "execution_count": 0,
      "outputs": []
    }
  ]
}
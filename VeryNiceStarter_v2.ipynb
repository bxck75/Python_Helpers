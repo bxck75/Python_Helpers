{
  "nbformat": 4,
  "nbformat_minor": 0,
  "metadata": {
    "colab": {
      "name": "VeryNiceStarter_v2.ipynb",
      "provenance": [],
      "private_outputs": true,
      "collapsed_sections": [
        "-Os2fwogLUKG"
      ],
      "toc_visible": true,
      "include_colab_link": true
    },
    "kernelspec": {
      "name": "python3",
      "display_name": "Python 3"
    },
    "accelerator": "GPU"
  },
  "cells": [
    {
      "cell_type": "markdown",
      "metadata": {
        "id": "view-in-github",
        "colab_type": "text"
      },
      "source": [
        "<a href=\"https://colab.research.google.com/github/bxck75/Python_Helpers/blob/master/VeryNiceStarter_v2.ipynb\" target=\"_parent\"><img src=\"https://colab.research.google.com/assets/colab-badge.svg\" alt=\"Open In Colab\"/></a>"
      ]
    },
    {
      "cell_type": "markdown",
      "metadata": {
        "id": "-Os2fwogLUKG",
        "colab_type": "text"
      },
      "source": [
        "# helperclass info\n",
        "\n",
        "[Starter for Python Helpers module](https://gist.githubusercontent.com/bxck75/e2ec16b2eecbcd53f106c38ad350244a/raw/25d7ad2073336f191fd0449fb9a21439af812093/Helpers_Start.py)"
      ]
    },
    {
      "cell_type": "markdown",
      "metadata": {
        "id": "BRj71HGk6mi_",
        "colab_type": "text"
      },
      "source": [
        "```\n",
        "    'HelpCore)',\n",
        "        'c_d',\n",
        "        'cd',\n",
        "        'cdr',\n",
        "        'check_img_list',\n",
        "        'cleanup_files',\n",
        "        'cloner',\n",
        "        'cprint',\n",
        "        'custom_reps_setup',\n",
        "        'docu',\n",
        "        'explore_mod',\n",
        "        'flickr_scrape',\n",
        "        'get_gdrive_dataset',\n",
        "        'get_other_reps',\n",
        "        'git_install_root',\n",
        "        'haar_detect',\n",
        "        'helpers_root',\n",
        "        'if_exists',\n",
        "        'img_batch_rename',\n",
        "        'importTboard',\n",
        "        'install_repos',\n",
        "        'into_func',\n",
        "        'landmarkdetect',\n",
        "        'landmarkdetecter',\n",
        "        'landmarker',\n",
        "        'list_to_file',\n",
        "        'no_action',\n",
        "        'path',\n",
        "        'rec_walk_folder',\n",
        "        'rep',\n",
        "        'root',\n",
        "        'root_dirname',\n",
        "        'root_filename',\n",
        "        'runProcess',\n",
        "        'set_maker',\n",
        "        'sorted_repos',\n",
        "        'sys_com',\n",
        "        'sys_log',\n",
        "        'system_log_file',\n",
        "        'valid_img',\n",
        "        'valid_list'\n",
        "```"
      ]
    },
    {
      "cell_type": "markdown",
      "metadata": {
        "id": "evLjcPe4LaJf",
        "colab_type": "text"
      },
      "source": [
        "# code"
      ]
    },
    {
      "cell_type": "markdown",
      "metadata": {
        "id": "kK0z5rGt9QXU",
        "colab_type": "text"
      },
      "source": [
        ""
      ]
    },
    {
      "cell_type": "code",
      "metadata": {
        "id": "6X6efbcB5hmG",
        "colab_type": "code",
        "colab": {},
        "cellView": "both"
      },
      "source": [
        "'''#########################################'''\n",
        "#'''       K00B404 aka. BXCK75             '''#\n",
        "'''      notebook/colab kickstarter         '''\n",
        "#''' Look for stuff in main.py in the root '''#\n",
        "''' Look for defs  in Helpers/core.py file  '''\n",
        "################################################\n",
        "from IPython.display import clear_output as clear\n",
        "# from pprint import pprint as print\n",
        "from pprint import pformat\n",
        "from PIL import Image\n",
        "import matplotlib.pyplot as plt\n",
        "import cv2\n",
        "import random\n",
        "import os\n",
        "import sys\n",
        "import json\n",
        "import IPython\n",
        "\n",
        "''' default sample data delete '''\n",
        "os.system('rm -r sample_data')\n",
        "\n",
        "''' set root paths '''\n",
        "root = '/content'\n",
        "helpers_root = root + '/installed_repos/Python_Helpers'\n",
        "\n",
        "''' setup install the Helpers module '''\n",
        "os.system('git clone https://github.com/bxck75/Python_Helpers.git ' + helpers_root) \n",
        "os.system('python ' + helpers_root + 'setup.py install')\n",
        "\n",
        "''' preset helpers '''\n",
        "os.chdir(helpers_root)\n",
        "import main as main_core\n",
        "MainCore = main_core.main()\n",
        "HelpCore = MainCore.Helpers_Core\n",
        "HC = HelpCore\n",
        "HC.root = root\n",
        "FScrape = HC.flickr_scrape\n",
        "fromGdrive = HC.GdriveD\n",
        "toGdrive = HC.ZipUp.ZipUp\n",
        "\n",
        "''' Clear output '''\n",
        "clear()"
      ],
      "execution_count": 0,
      "outputs": []
    },
    {
      "cell_type": "code",
      "metadata": {
        "id": "Pb0GedfYMfJ7",
        "colab_type": "code",
        "colab": {}
      },
      "source": [
        "# clear output folders of scraper\n",
        "HelpCore.sys_com('rm -r /content/*_images')\n",
        "HelpCore.sys_com('rm -r /content/faces')\n",
        "HelpCore.sys_com('rm -r /content/proc_images')\n",
        "help(HelpCore.FaceRip)"
      ],
      "execution_count": 0,
      "outputs": []
    },
    {
      "cell_type": "code",
      "metadata": {
        "id": "U43comoEMwhk",
        "colab_type": "code",
        "colab": {}
      },
      "source": [
        "''' Flickr scraper '''\n",
        "# Set\n",
        "search_list, qty, fl_dir = ['face','portrait'], 10, 'flr_images'\n",
        "# Scrape\n",
        "HC.FlickrS(search_list,qty,fl_dir)\n",
        "clear()"
      ],
      "execution_count": 0,
      "outputs": []
    },
    {
      "cell_type": "code",
      "metadata": {
        "id": "sTGRUHs1dDgm",
        "colab_type": "code",
        "colab": {}
      },
      "source": [
        "''' Google, Bing, Baidu scraper '''\n",
        "# Set\n",
        "search,qty,gbb_dir = search_list[0], 10, 'BBS_images'\n",
        "# Scrape\n",
        "HC.ICrawL(search, qty, gbb_dir )\n",
        "clear()"
      ],
      "execution_count": 0,
      "outputs": []
    },
    {
      "cell_type": "code",
      "metadata": {
        "id": "7Ofl8ISgc74i",
        "colab_type": "code",
        "colab": {}
      },
      "source": [
        "''' Combine the 2 resulting image folders sequencial into the final loot folder'''\n",
        "# Set\n",
        "loot_folder ='/content/final_loot'\n",
        "fld1, fld2, out = fl_dir, gbb_dir, loot_folder\n",
        "# Combine\n",
        "HC.combine_img_folders(fld1, fld2, out)\n",
        "clear()"
      ],
      "execution_count": 0,
      "outputs": []
    },
    {
      "cell_type": "code",
      "metadata": {
        "id": "CGlKu6wVkss3",
        "colab_type": "code",
        "colab": {}
      },
      "source": [
        "''' Gloom over loot Mhoaohaoaohaha '''\n",
        "img_lst = HelpCore.GlobX(loot_folder, '*.*g')\n",
        "print('looted ' + str(len(img_lst)) + ' images')\n",
        "img_lst.sort()"
      ],
      "execution_count": 0,
      "outputs": []
    },
    {
      "cell_type": "code",
      "metadata": {
        "id": "E6TOXhv1cLDN",
        "colab_type": "code",
        "colab": {}
      },
      "source": [
        "''' Capture all faces from the scrape loot'''\n",
        "resized_face_img_lst = HC.FaceRip(loot_folder)"
      ],
      "execution_count": 0,
      "outputs": []
    },
    {
      "cell_type": "code",
      "metadata": {
        "id": "c2KHHPI7nXcV",
        "colab_type": "code",
        "colab": {}
      },
      "source": [
        "''' get the resized faces list '''\n",
        "print('looted ' + str(len(resized_face_img_lst)) + ' images')\n",
        "resized_face_img_lst.sort()\n",
        "resized_face_img_lst"
      ],
      "execution_count": 0,
      "outputs": []
    },
    {
      "cell_type": "code",
      "metadata": {
        "id": "vxmoyasqcCRB",
        "colab_type": "code",
        "colab": {}
      },
      "source": [
        "''' Count the face loot '''\n",
        "face_img_lst = HelpCore.GlobX('/content/faces', 'face_img_*.*g')\n",
        "print('looted ' + str(len(face_img_lst)) + ' images')\n",
        "face_img_lst.sort()"
      ],
      "execution_count": 0,
      "outputs": []
    },
    {
      "cell_type": "code",
      "metadata": {
        "id": "Oml_qAPNcfW4",
        "colab_type": "code",
        "colab": {}
      },
      "source": [
        "''' Count the landmark loot must be same nr as face loot '''\n",
        "landmark_img_lst = HelpCore.GlobX('/content/faces', 'landmark_blank_face_img_*.*g')\n",
        "print('looted ' + str(len(landmark_img_lst)) + ' images')\n",
        "landmark_img_lst.sort()"
      ],
      "execution_count": 0,
      "outputs": []
    },
    {
      "cell_type": "code",
      "metadata": {
        "id": "4xh3tONWxZRy",
        "colab_type": "code",
        "colab": {}
      },
      "source": [
        "# def combine_AB(self, lst_A, lst_B, out_dir='combine'):\n",
        "#     ''' combine '''\n",
        "#     import cv2\n",
        "#     import matplotlib.pyplot as plt\n",
        "#     import numpy as np\n",
        "#     for i in self.lrange(lst_A):\n",
        "#         im1 = cv2.imread(lst_A[i])\n",
        "#         im2 = cv2.imread(lst_B[i])\n",
        "#         im_h = cv2.hconcat([im1, im2])\n",
        "#         os.makedirs(self.root+'/'+out_dir, exist_ok=True)\n",
        "#         cv2.imwrite(self.root+'/'+out_dir+'/combined_img_%04d.jpg' % i, im_h)\n",
        "HC.combine_AB('/content/faces', '/content/faces')"
      ],
      "execution_count": 0,
      "outputs": []
    },
    {
      "cell_type": "code",
      "metadata": {
        "id": "eDtIu6PgiVXl",
        "colab_type": "code",
        "colab": {}
      },
      "source": [
        "HC.combine_AB('/content/faces', '/content/faces')"
      ],
      "execution_count": 0,
      "outputs": []
    },
    {
      "cell_type": "code",
      "metadata": {
        "id": "MyUJl3oc1ZMu",
        "colab_type": "code",
        "colab": {}
      },
      "source": [
        "# help(HC.ZipUp)\n",
        "\n",
        "result=toGdrive('faces_landmark_set',HC.gdrive_root,'/content/faces').ZipUp\n",
        "result=toGdrive('combined_landmark_set',HC.gdrive_root,'/content/combined').ZipUp"
      ],
      "execution_count": 0,
      "outputs": []
    },
    {
      "cell_type": "markdown",
      "metadata": {
        "id": "JSQtRi77hMju",
        "colab_type": "text"
      },
      "source": [
        "# Experimental"
      ]
    },
    {
      "cell_type": "code",
      "metadata": {
        "id": "x7JCG8HbhUup",
        "colab_type": "code",
        "colab": {}
      },
      "source": [
        "sys.exit(1)"
      ],
      "execution_count": 0,
      "outputs": []
    },
    {
      "cell_type": "code",
      "metadata": {
        "id": "QPnMXCXCwHn9",
        "colab_type": "code",
        "colab": {}
      },
      "source": [
        "import numpy as np\n",
        "def get_one_image(images):\n",
        "        img_list = []\n",
        "        padding = 200\n",
        "        for img in images:\n",
        "            img_list.append(cv2.imread(img))\n",
        "        max_width = []\n",
        "        max_height = 0\n",
        "        for img in img_list:\n",
        "            max_width.append(img.shape[0])\n",
        "            max_height += img.shape[1]\n",
        "        w = np.max(max_width)\n",
        "        h = max_height + padding\n",
        "\n",
        "        # create a new array with a size large enough to contain all the images\n",
        "        final_image = np.zeros((h, w, 3), dtype=np.uint8)\n",
        "\n",
        "        current_y = 0  # keep track of where your current image was last placed in the y coordinate\n",
        "        for image in img_list:\n",
        "            # add an image to the final array and increment the y coordinate\n",
        "            final_image[current_y:image.shape[0] + current_y, :image.shape[1], :] = image\n",
        "            current_y += image.shape[0]\n",
        "        cv2.imwrite('out.png', final_image)\n",
        "\n",
        "landmark_img_lst\n",
        "\n",
        "get_one_image(landmark_img_lst)"
      ],
      "execution_count": 0,
      "outputs": []
    },
    {
      "cell_type": "code",
      "metadata": {
        "id": "v-vdPGbp_seq",
        "colab_type": "code",
        "colab": {}
      },
      "source": [
        "import numpy as np\n",
        "# print(os.path.join('ikke','prikke','prakke','prokke.jpg'))\n",
        "# black blank image\n",
        "blank_image = np.zeros(shape=[512, 512, 3], dtype=np.uint8)\n",
        "# print(blank_image.shape)\n",
        "plt.imshow(blank_image)\n",
        "# new figure\n",
        "# shape\n",
        "shape = blank_image.shape\n",
        "print(shape)\n",
        "plt.figure()\n",
        "# white blank image\n",
        "blank_image2 = 255 * np.ones(shape=[512, 512, 3], dtype=np.uint8)\n",
        "plt.imshow(blank_image2)"
      ],
      "execution_count": 0,
      "outputs": []
    },
    {
      "cell_type": "code",
      "metadata": {
        "id": "qiAUlDmgqTxv",
        "colab_type": "code",
        "colab": {}
      },
      "source": [
        "# HC.Face('/content/final_loot/img_0008.jpg')\n",
        "# HC.DFace.align((400,400,3), '/content/final_loot/img_0007.jpg')\n",
        "# align(imgDim, rgbImg, bb=None, landmarks=None, landmarkIndices=INNER_EYES_AND_BOTTOM_LIP)"
      ],
      "execution_count": 0,
      "outputs": []
    },
    {
      "cell_type": "code",
      "metadata": {
        "id": "0KPh6Es_7HJ_",
        "colab_type": "code",
        "colab": {}
      },
      "source": [
        "# help(HC.ColorPrint)\n",
        "# from colorama import init, Fore, Back, Style\n",
        "# init(convert=True)\n",
        "# print(Fore.RED + 'some red text') \n",
        "# print(Back.GREEN + 'and with a green background') \n",
        "# print(Style.DIM + 'and in dim text') \n",
        "# print(Style.RESET_ALL) \n",
        "# print('back to normal now') \n",
        "# HC.ColorPrint( 'some red text')"
      ],
      "execution_count": 0,
      "outputs": []
    },
    {
      "cell_type": "code",
      "metadata": {
        "id": "qJoiQgH5EKTg",
        "colab_type": "code",
        "colab": {}
      },
      "source": [
        "\n",
        "# help(cv2.face_FaceRecognizer.predict)\n",
        "# # Research list\n",
        "# cv2.dnn_Layer\n",
        "# cv2.face_BIF\n",
        "# cv2.face_FaceRecognizer\n",
        "# cv2.face_BasicFaceRecognizer\n",
        "# cv2.face_EigenFaceRecognizer\n",
        "# cv2.face_FisherFaceRecognizer\n",
        "# cv2.face_LBPHFaceRecognizer\n",
        "# cv2.ximgproc_FastLineDetector\n",
        "# cv2.CascadeClassifier.load() # loads a classifier file\n",
        "# cv2.CirclesGridFinderParameters\n",
        "# cv2.CirclesGridFinderParameters2\n",
        "# cv2.VideoCapture\n",
        "# cv2.text_TextDetector\n",
        "# cv2.text_TextDetectorCNN\n",
        "# dir(HC)"
      ],
      "execution_count": 0,
      "outputs": []
    },
    {
      "cell_type": "code",
      "metadata": {
        "id": "5D14rhWY6Av-",
        "colab_type": "code",
        "colab": {}
      },
      "source": [
        "# '''    Go Home   '''\n",
        "# HC.c_d(HC.root,True)\n",
        "\n",
        "# ''' Set the scrape details '''\n",
        "# scrape_run_name = 'portrait'\n",
        "# search_list = [ scrape_run_name ]\n",
        "# quantity=200\n",
        "\n",
        "# ''' Run the Scraper '''\n",
        "# print(HC.FlickrS( search_list, quantity, scrape_run_name ))\n",
        "\n",
        "# clear()"
      ],
      "execution_count": 0,
      "outputs": []
    },
    {
      "cell_type": "code",
      "metadata": {
        "id": "KC1B2bGR3aUa",
        "colab_type": "code",
        "colab": {}
      },
      "source": [
        "# img_folder = '/content/' + scrape_run_name\n",
        "# img_lst = HelpCore.GlobX(img_folder, '*.*g')\n",
        "# print(len(img_lst))\n",
        "\n",
        "# for x in range(10):\n",
        "#     rnd_nr = random.randint(0,len(img_lst)-1)\n",
        "#     print(img_lst[rnd_nr])\n",
        "#     single_image = img_lst[rnd_nr]\n",
        "#     # l_img = cv2.imread(img_lst[rnd_nr])\n",
        "#     # plt.imshow(l_img)\n",
        "#     # plt.figure()\n",
        "\n",
        "# plt.show\n",
        "# clear()"
      ],
      "execution_count": 0,
      "outputs": []
    },
    {
      "cell_type": "code",
      "metadata": {
        "id": "x4AXKwy-Shzk",
        "colab_type": "code",
        "colab": {}
      },
      "source": [
        "# from random import Random\n",
        "# print(Random(len(img_lst)-1))\n",
        "# Random(5,5)\n",
        "# HelpCore.GlobX(img_folder, '*.*g')\n",
        "# img_lst"
      ],
      "execution_count": 0,
      "outputs": []
    },
    {
      "cell_type": "code",
      "metadata": {
        "id": "j5JHDrNMSDpd",
        "colab_type": "code",
        "colab": {}
      },
      "source": [
        "# rnd_nr = random.randint(0,len(img_lst)-1)\n",
        "# HelpCore.ShowImg(img_lst[rnd_nr],1)"
      ],
      "execution_count": 0,
      "outputs": []
    },
    {
      "cell_type": "code",
      "metadata": {
        "id": "M640zoIWRlGp",
        "colab_type": "code",
        "colab": {}
      },
      "source": [
        "# HC.Resize.resize_single(img_lst[random.randint(0,len(img_lst)-1)], pad=True, size=400)\n",
        "dir(HC)\n",
        "# help()"
      ],
      "execution_count": 0,
      "outputs": []
    },
    {
      "cell_type": "code",
      "metadata": {
        "id": "USUgoMhuQw9j",
        "colab_type": "code",
        "colab": {}
      },
      "source": [
        "# HC.Resize.resize_folder('/content/portrait')\n",
        "# "
      ],
      "execution_count": 0,
      "outputs": []
    },
    {
      "cell_type": "code",
      "metadata": {
        "id": "EHxNPH8R6cQb",
        "colab_type": "code",
        "colab": {}
      },
      "source": [
        "\n",
        "# HelpCore.haar_detect(img,image_out)\n",
        "# HelpCore.cloner\n",
        "# HelpCore.FlickrS\n",
        "# HelpCore.GlobX\n",
        "# HelpCore.MethHelp\n",
        "# HelpCore.fromGdrive\n",
        "# HelpCore.toGdrive\n",
        "# HelpCore.ShowImg\n",
        "# # HelpCore.resize\n",
        "# # HelperCore.path_split\n",
        "# # HelpCore.HaarDetect\n",
        "# # HelpCore.HaarDetect\n",
        "\n",
        "# org_img = '/content/installed_repos/face-recognition/images/Colin_Powell/Colin_Powell_0004.jpg'\n",
        "# org_path_dict = path_split(org_img)\n",
        "# marked_path_dict = org_path_dict\n",
        "# marked_path_dict['path'][len(marked_path_dict['path'])-1] = marked_path_dict['path'][len(marked_path_dict['path'])-1]+'_marked'\n",
        "# print(org_path_dict['path'][len(org_path_dict['path'])-1])\n",
        "# print(marked_path_dict['path'][len(marked_path_dict['path'])-1])\n",
        "# # print(org_path_dict)\n",
        "\n",
        "# new_img = org_img.replace('images/','images_marked/').replace('.jpg', '.jpg')\n",
        "# os.makedirs(new_img, exist_ok=True)\n",
        "# ''' Detect the landmarks '''\n",
        "\n",
        "# HelpCore.landmarker( org_img, org_path_dict['path'][:2])"
      ],
      "execution_count": 0,
      "outputs": []
    },
    {
      "cell_type": "code",
      "metadata": {
        "id": "i6UUyiFq9Dp7",
        "colab_type": "code",
        "colab": {}
      },
      "source": [
        ""
      ],
      "execution_count": 0,
      "outputs": []
    },
    {
      "cell_type": "code",
      "metadata": {
        "id": "TAtvO--wLwYi",
        "colab_type": "code",
        "colab": {}
      },
      "source": [
        "dir(HC)\n",
        "# cv2.face_FaceRecognizer.predict()"
      ],
      "execution_count": 0,
      "outputs": []
    },
    {
      "cell_type": "code",
      "metadata": {
        "id": "oQlEV56e_vsU",
        "colab_type": "code",
        "colab": {}
      },
      "source": [
        "imgs = HelpCore.GlobX('/content/images','*.*g')\n",
        "\n",
        "n_row, n_col = 3, 3\n",
        "_, axs = plt.subplots(n_row, n_col, figsize=(10,10))\n",
        "axs = axs.flatten()\n",
        "\n",
        "for img, ax in zip(imgs, axs):\n",
        "    i = cv2.imread(img)\n",
        "    ax.set_title(str(img))\n",
        "    ax.axis('off')\n",
        "    ax.imshow(i)\n",
        "\n",
        "plt.show()"
      ],
      "execution_count": 0,
      "outputs": []
    },
    {
      "cell_type": "code",
      "metadata": {
        "id": "FMveIhtM-tiy",
        "colab_type": "code",
        "colab": {}
      },
      "source": [
        ""
      ],
      "execution_count": 0,
      "outputs": []
    },
    {
      "cell_type": "code",
      "metadata": {
        "id": "FbjLpj_vJntT",
        "colab_type": "code",
        "colab": {}
      },
      "source": [
        "# import cv2\n",
        "# import matplotlib.pyplot as plt\n",
        "# random_path = img_lst[random.randint(0,len(img_lst)-1)]\n",
        "# img = cv2.imread(random_path)\n",
        "# img = cv2.cvtColor(img, cv2.COLOR_BGR2RGB)\n",
        "# plt.imshow(img)\n",
        "\n",
        "# from numpy import random\n",
        "# import matplotlib.pyplot as plt\n",
        "# print(img.shape)\n",
        "# data = random.random((5,5))\n",
        "# img = plt.imshow(img)\n",
        "# img.set_cmap('tab10')\n",
        "# plt.axis('off')\n",
        "# plt.figure( num=65, figsize=(100,100), dpi=10, facecolor='blue', edgecolor='red', frameon=False, clear=False )\n",
        "# cv2.imwrite(\"test.png\", img)\n",
        "# plt.savefig(\"test.png\", bbox_inches='tight')\n",
        "# plt.show"
      ],
      "execution_count": 0,
      "outputs": []
    },
    {
      "cell_type": "code",
      "metadata": {
        "id": "ntXdp4VqRDVl",
        "colab_type": "code",
        "colab": {}
      },
      "source": [
        "# img = cv2.cvtColor(img, cv2.COLOR_BGR2RGB)\n",
        "# plt.imshow(img_rgb)"
      ],
      "execution_count": 0,
      "outputs": []
    },
    {
      "cell_type": "code",
      "metadata": {
        "id": "59ulBLBjR6sl",
        "colab_type": "code",
        "colab": {}
      },
      "source": [
        "# dir(cv2)"
      ],
      "execution_count": 0,
      "outputs": []
    },
    {
      "cell_type": "code",
      "metadata": {
        "id": "fieSXPkdbv2d",
        "colab_type": "code",
        "colab": {}
      },
      "source": [
        "# help(plt.imshow)"
      ],
      "execution_count": 0,
      "outputs": []
    },
    {
      "cell_type": "code",
      "metadata": {
        "id": "0Z1lo3g6Ra6X",
        "colab_type": "code",
        "colab": {}
      },
      "source": [
        "# os.chdir('/content')\n",
        "# import cv2\n",
        "\n",
        "# img_path='/content/images_google/000005.jpg'\n",
        "# img = cv2.imread(img_path)\n",
        "# detector = cv2.FastFeatureDetector_create()\n",
        "\n",
        "# # plt.figure(1)\n",
        "# # img = cv2.cvtColor( img, cv2.COLOR_BGR2Luv)\n",
        "# # plt.axis('off')\n",
        "# # plt.imshow(img)\n",
        "\n",
        "# plt.figure(1)\n",
        "# img_rgb = cv2.cvtColor(img, cv2.COLOR_BGR2RGB)\n",
        "# plt.axis('off')\n",
        "# plt.title=''\n",
        "# plt.imshow(img_rgb)\n",
        "# # img save\n",
        "# cv2.imwrite('final_image.png',img)\n",
        "# plt.show\n",
        "# plt.figure(2)\n",
        "# # lege image\n",
        "# image_blank = np.zeros(shape=(512,512,3),dtype=np.int16)\n",
        "# plt.imshow(image_blank)\n",
        "# plt.axis('off')\n",
        "# plt.show\n",
        "# cv2.destroyAllWindows()"
      ],
      "execution_count": 0,
      "outputs": []
    },
    {
      "cell_type": "code",
      "metadata": {
        "id": "cxBcKVU4g0B4",
        "colab_type": "code",
        "colab": {}
      },
      "source": [
        "# HelpCore.GdriveD.GdriveD('1fMOT_0f5clPbZXsphZyrGcLXkIhSDl3o','shape_predictor_194_face_landmarks.zip')\n",
        "# os.system('unzip /content/shape_predictor_194_face_landmarks.zip')\n",
        "# help()"
      ],
      "execution_count": 0,
      "outputs": []
    },
    {
      "cell_type": "code",
      "metadata": {
        "id": "TIwLR64RXGco",
        "colab_type": "code",
        "colab": {}
      },
      "source": [
        "import sys\n",
        "import os\n",
        "import dlib\n",
        "import glob\n",
        "import cv2\n",
        "import numpy as np\n",
        "import dlib\n",
        "import matplotlib.pyplot as plt\n",
        "\n",
        "def FaceRip(folder='/content/portrait'):\n",
        "    ''' \n",
        "        Rip all faces from a images folder\n",
        "        Example:\n",
        "            FaceRip(folder='/content/portrait')\n",
        "    '''\n",
        "    ''' Download and unzip the haar cascader '''\n",
        "    HelpCore.c_d(HelpCore.root)\n",
        "    predictor_file = ['shape_predictor_194_face_landmarks.zip','1fMOT_0f5clPbZXsphZyrGcLXkIhSDl3o']\n",
        "    HelpCore.GdriveD.GdriveD(predictor_file[1],predictor_file[0])\n",
        "    os.system('unzip /content/shape_predictor_194_face_landmarks.zip')\n",
        "\n",
        "    ''' Detector predictor load'''\n",
        "    predictor = predictor_file[0].replace('zip','dat')\n",
        "    detector = dlib.get_frontal_face_detector()\n",
        "    predictor = dlib.shape_predictor(predictor)\n",
        "\n",
        "    ''' glob the folder '''\n",
        "    lst = HelpCore.GlobX(folder,'*.*g')\n",
        "\n",
        "    ''' iterate of the images '''\n",
        "    iter = 0\n",
        "    for im in range(len(lst)-1):\n",
        "        # load the image\n",
        "        img = cv2.imread(lst[iter])\n",
        "\n",
        "        # make grayscale\n",
        "        gray = cv2.cvtColor(img, cv2.COLOR_BGR2GRAY)\n",
        "\n",
        "        # detect faces\n",
        "        faces = detector(gray)\n",
        "\n",
        "        # iterate over the faces\n",
        "        for face in faces:\n",
        "            x1 = face.left()\n",
        "            y1 = face.top()\n",
        "            x2 = face.right()\n",
        "            y2 = face.bottom()\n",
        "            # cv2.rectangle(img, (x1-10, y1-10), (x2+10, y2+10), (0, 255, 0), 3) # draw rectangle on the image\n",
        "\n",
        "            size_increase = 50 # increase size of face image output\n",
        "\n",
        "            # save face without landmarkers\n",
        "            res2 = img[y1-size_increase :y2+size_increase ,x1-size_increase :x2+size_increase ]\n",
        "            #grayscale of face\n",
        "            res2_image_gray = gray[y1-size_increase :y2+size_increase ,x1-size_increase :x2+size_increase ]\n",
        "\n",
        "            #save \n",
        "            os.makedirs(HelpCore.root+'/faces', exist_ok=True)\n",
        "            cv2.imwrite(HelpCore.root+'/faces/face_img_'+str(iter)+'.jpg', res2)\n",
        "            cv2.imwrite(HelpCore.root+'/faces/gray_face_img_'+str(iter)+'.jpg', res2_image_gray)\n",
        "\n",
        "            # get thelandmarks of the face\n",
        "            landmarks = predictor(gray, face)\n",
        "            for n in range(0, 194):\n",
        "                x = landmarks.part(n).x\n",
        "                y = landmarks.part(n).y\n",
        "                cv2.circle(img, (x, y), 4, (255, 0, 100), -1)\n",
        "                cv2.circle(gray, (x, y), 4, (255, 100, 0), -1)\n",
        "\n",
        "            # face image\n",
        "            res2 = img[y1-size_increase :y2+size_increase ,x1-size_increase :x2+size_increase ]\n",
        "            #grayscale face image\n",
        "            res2_image_gray = gray[y1-size_increase :y2+size_increase ,x1-size_increase :x2+size_increase ]\n",
        "\n",
        "            #save \n",
        "            os.makedirs(HelpCore.root+'/faces', exist_ok=True)\n",
        "            cv2.imwrite(HelpCore.root+'/faces/landmark_face_img_'+str(iter)+'.jpg', res2)\n",
        "            cv2.imwrite(HelpCore.root+'/faces/landmark_gray_face_img_'+str(iter)+'.jpg', res2_image_gray)\n",
        "\n",
        "        # save total  \n",
        "        os.makedirs(HelpCore.root + '/proc_images/total', exist_ok=True)\n",
        "        cv2.imwrite(HelpCore.root + '/proc_images/total/img_'+str(iter)+'.jpg', img)\n",
        "        cv2.imwrite(HelpCore.root + '/proc_images/total/gray_img_'+str(iter)+'.jpg', gray)\n",
        "        iter += 1\n",
        "\n",
        "FaceRip()"
      ],
      "execution_count": 0,
      "outputs": []
    },
    {
      "cell_type": "code",
      "metadata": {
        "id": "1070RiJkOfmC",
        "colab_type": "code",
        "colab": {}
      },
      "source": [
        "img_lst=HelpCore.GlobX('/content/faces','landmark*.*g')\n",
        "rnd_img_path = img_lst[random.randint(0,len(img_lst)-1)]\n",
        "print(rnd_img_path)\n",
        "HelpCore.ShowImg(rnd_img_path, 1)\n",
        "dir(HC.ShowImg)"
      ],
      "execution_count": 0,
      "outputs": []
    },
    {
      "cell_type": "code",
      "metadata": {
        "id": "73UZFOk2Gism",
        "colab_type": "code",
        "colab": {}
      },
      "source": [
        "# HelpCore.GlobX('/content/images_bohdgaya', '*.*g')\n",
        "# from pydrive.auth import GoogleAuth\n",
        "# from pydrive.drive import GoogleDrive\n",
        "\n",
        "# def GFoldeR(mode='show', file ,folder='/content')\n",
        "#     gauth = GoogleAuth()\n",
        "#     gauth.LocalWebserverAuth()\n",
        "#     drive = GoogleDrive(gauth)\n",
        "#     if mode == 'create':\n",
        "#         # Create folder.\n",
        "#         folder_metadata = {\n",
        "#             'title' : '<your folder name here>',\n",
        "#             # The mimetype defines this new file as a folder, so don't change this.\n",
        "#             'mimeType' : 'application/vnd.google-apps.folder'\n",
        "#         }\n",
        "#         folder = drive.CreateFile(folder_metadata)\n",
        "#         folder.Upload()\n",
        "#     if mode == 'info':\n",
        "#     # Get folder info and print to screen.\n",
        "#     folder_title = folder['title']\n",
        "#     folder_id = folder['id']\n",
        "#     print('title: %s, id: %s' % (folder_title, folder_id))\n",
        "#     if mode == 'upload':\n",
        "#     # Upload file to folder.\n",
        "#     f = drive.CreateFile({\"parents\": [{\"kind\": \"drive#fileLink\", \"id\": folder_id}]})\n",
        "\n",
        "#     # Make sure to add the path to the file to upload below.\n",
        "#     f.SetContentFile('<file path here>')\n",
        "#     f.Upload()\n"
      ],
      "execution_count": 0,
      "outputs": []
    },
    {
      "cell_type": "code",
      "metadata": {
        "id": "IPS_BiaGIFbL",
        "colab_type": "code",
        "colab": {}
      },
      "source": [
        "# import random\n",
        "# import numpy as np\n",
        "# import cv2 as cv\n",
        "\n",
        "# frame1 = cv.imread(cv.samples.findFile('lena.jpg'))\n",
        "# if frame1 is None:\n",
        "#     print(\"image not found\")\n",
        "#     exit()\n",
        "# frame = np.vstack((frame1,frame1))\n",
        "# facemark = cv.face.createFacemarkLBF()\n",
        "# try:\n",
        "#     facemark.loadModel(cv.samples.findFile('lbfmodel.yaml'))\n",
        "# except cv.error:\n",
        "#     print(\"Model not found\\nlbfmodel.yaml can be download at\")\n",
        "#     print(\"https://raw.githubusercontent.com/kurnianggoro/GSOC2017/master/data/lbfmodel.yaml\")\n",
        "# cascade = cv.CascadeClassifier(cv.samples.findFile('lbpcascade_frontalface_improved.xml'))\n",
        "# if cascade.empty() :\n",
        "#     print(\"cascade not found\")\n",
        "#     exit()\n",
        "# faces = cascade.detectMultiScale(frame, 1.05,  3, cv.CASCADE_SCALE_IMAGE, (30, 30))\n",
        "# ok, landmarks = facemark.fit(frame, faces=faces)\n",
        "# cv.imshow(\"Image\", frame)\n",
        "# for marks in landmarks:\n",
        "#     couleur = (random.randint(0,255),\n",
        "#                random.randint(0,255),\n",
        "#                random.randint(0,255))\n",
        "#     cv.face.drawFacemarks(frame, marks, couleur)\n",
        "# cv.imshow(\"Image Landmarks\", frame)\n",
        "# cv.waitKey()\n"
      ],
      "execution_count": 0,
      "outputs": []
    },
    {
      "cell_type": "code",
      "metadata": {
        "id": "EZtKAvz6IGJV",
        "colab_type": "code",
        "colab": {}
      },
      "source": [
        "# 194_point_lABDNAKE1fMOT_0f5clPbZXsphZyrGcLXkIhSDl3o\n"
      ],
      "execution_count": 0,
      "outputs": []
    },
    {
      "cell_type": "code",
      "metadata": {
        "id": "8tJ5FBFLH5-X",
        "colab_type": "code",
        "colab": {}
      },
      "source": [
        "import dlib\n",
        "from skimage import io\n",
        "def LandM(image=''):\n",
        "\n",
        "    ''' Download amd unzip the haar cascader '''\n",
        "    lm_file = [\n",
        "               'shape_predictor_194_face_landmarks.zip',\n",
        "               '1fMOT_0f5clPbZXsphZyrGcLXkIhSDl3o',\n",
        "               ]\n",
        "    HC.GdriveD.GdriveD(lm_file[1],lm_file[0])\n",
        "    os.system('unzip ' + HC.root + lm_file[0])\n",
        "\n",
        "    ''' shape_predictor is the train dataset in the same directory '''\n",
        "    predictor_path =  HC.root + lm_file[0].replace('zip','dat')\n",
        "    detector = dlib.get_frontal_face_detector()\n",
        "    predictor = dlib.shape_predictor(predictor_path)\n",
        "\n",
        "    ''' FDT.jpg is the picture file to be processed in the same directory '''\n",
        "    random_path = img_lst[random.randint(0,len(img_lst)-1)]\n",
        "    img = cv2.imread(random_path)\n",
        "    dets = detector(img)\n",
        "    print(\"Number of faces detected: {}\".format(len(dets)))\n",
        "    for k, d in enumerate(dets):\n",
        "        print(\"Detection {}: Left: {} Top: {} Right: {} Bottom: {}\".format(\n",
        "            k, d.left(), d.top(), d.right(), d.bottom()))\n",
        "        # Get the landmarks/parts for the face in box d.\n",
        "        shape = predictor(img, d)\n",
        "        print(shape)\n",
        "        plt.imshow(shape)\n",
        "        print(\"Part 0: {}, Part 1: {} ...\".format(shape.part(0),\n",
        "                                                shape.part(1)))\n",
        "        plt.show\n",
        "        # Draw the face landmarks on the screen.\n"
      ],
      "execution_count": 0,
      "outputs": []
    }
  ]
}
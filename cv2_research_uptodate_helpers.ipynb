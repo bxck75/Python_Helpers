{
  "nbformat": 4,
  "nbformat_minor": 0,
  "metadata": {
    "colab": {
      "name": "cv2_research_uptodate_helpers.ipynb",
      "provenance": [],
      "private_outputs": true,
      "include_colab_link": true
    },
    "kernelspec": {
      "name": "python3",
      "display_name": "Python 3"
    }
  },
  "cells": [
    {
      "cell_type": "markdown",
      "metadata": {
        "id": "view-in-github",
        "colab_type": "text"
      },
      "source": [
        "<a href=\"https://colab.research.google.com/github/bxck75/Python_Helpers/blob/master/cv2_research_uptodate_helpers.ipynb\" target=\"_parent\"><img src=\"https://colab.research.google.com/assets/colab-badge.svg\" alt=\"Open In Colab\"/></a>"
      ]
    },
    {
      "cell_type": "code",
      "metadata": {
        "id": "yCPOI5cujDdD",
        "colab_type": "code",
        "colab": {}
      },
      "source": [
        "!wget https://gist.githubusercontent.com/bxck75/21a19bc89876ce0e419fdbf39979d133/raw/946f0c361a8ac107cb198b3293b5dea6fc17a53e/WootWoot.py"
      ],
      "execution_count": 0,
      "outputs": []
    },
    {
      "cell_type": "code",
      "metadata": {
        "id": "ev8cZaM2jNvY",
        "colab_type": "code",
        "colab": {}
      },
      "source": [
        "''' install 3dparty sheit '''\n",
        "from IPython.display import clear_output as cle\n",
        "from pprint import pprint as print\n",
        "from PIL import Image\n",
        "import os\n",
        "import sys\n",
        "import json\n",
        "import IPython\n",
        "\n",
        "''' default sample data delete '''\n",
        "os.system('rm -r sample_data')\n",
        "\n",
        "''' set root paths '''\n",
        "root = '/content'\n",
        "gdrive_root = '/content/drive/My Drive'\n",
        "helpers_root = root + '/installed_repos/Python_Helpers'\n",
        "\n",
        "''' setup install the Helpers module '''\n",
        "os.system('git clone https://github.com/bxck75/Python_Helpers.git ' + helpers_root) \n",
        "os.system('python ' + helpers_root + 'setup.py install')\n",
        "\n",
        "''' import helpers '''\n",
        "os.chdir(helpers_root)\n",
        "import main as main_core\n",
        "MainCore = main_core.main()\n",
        "HelpCore = MainCore.Helpers_Core\n",
        "Helpers = main_core.Helpers\n",
        "FScrape = HelpCore.flickr_scrape\n",
        "Old_H = MainCore.Helpers_Core.H\n",
        "ICrawl = Helpers.GoImgScrape.GoogleImageCrawler()\n",
        "OhMe = Old_H.Me\n",
        "cle()"
      ],
      "execution_count": 0,
      "outputs": []
    },
    {
      "cell_type": "code",
      "metadata": {
        "id": "K6za0kuz3X_D",
        "colab_type": "code",
        "colab": {}
      },
      "source": [
        "dir(HelpCore.icrawl)\n",
        "HelpCore.icrawl('face')"
      ],
      "execution_count": 0,
      "outputs": []
    },
    {
      "cell_type": "code",
      "metadata": {
        "id": "0hfwovE444Ez",
        "colab_type": "code",
        "colab": {}
      },
      "source": [
        "dir(main_core.main)"
      ],
      "execution_count": 0,
      "outputs": []
    },
    {
      "cell_type": "code",
      "metadata": {
        "id": "4HAxNgbB2x7Z",
        "colab_type": "code",
        "colab": {}
      },
      "source": [
        "'''Crawl'''\n",
        "search_input='poep'\n",
        "ext='png'\n",
        "qty = 21\n",
        "\n",
        "search = search_input + ' ext:' + ext\n",
        "ICrawl.crawl(search,max_num=qty)"
      ],
      "execution_count": 0,
      "outputs": []
    },
    {
      "cell_type": "code",
      "metadata": {
        "id": "EHD53XTS3EsI",
        "colab_type": "code",
        "colab": {}
      },
      "source": [
        "dir(main_core.Helpers)"
      ],
      "execution_count": 0,
      "outputs": []
    },
    {
      "cell_type": "code",
      "metadata": {
        "id": "PAgyFLRj_cRK",
        "colab_type": "code",
        "colab": {}
      },
      "source": [
        "# img_list = HelpCore.GlobX(img_dir,'*.*g')\n",
        "img_list=OhMe(['globx', img_dir, '*.png'])\n",
        "img_list.sort()\n",
        "print(img_list)\n",
        "# from pprint import pprint as print\n",
        "# # cle()\n",
        "\n",
        "def GlobX( path, pattern):\n",
        "    ''' Glob folders on pattern '''\n",
        "    import inspect, os, sys\n",
        "    log_msg = 'Searching  ' + str(path) + ' for  ' + pattern\n",
        "    func_name=inspect.stack()[0][3]\n",
        "    HelpCore.sys_log(func_name + ' <~[LOGGED]~> ' + log_msg)\n",
        "    \n",
        "    glob = Old_H.Me\n",
        "    cmd = ['globx', path, pattern]\n",
        "    HelpCore.cprint(\"GlobGloBGloB....\",'warn')\n",
        "    HelpCore.sys_log(func_name + ' <~[LOGGED]~> ' + \"GloBGloBGloB....\" + path + '/' + pattern)\n",
        "    HelpCore.cprint(\"Pooooot pt..pt..pt..prrrttt...pt.pt.prrrrttt\",'pass')\n",
        "    HelpCore.sys_log(func_name + ' <~[LOGGED]~> ' + \"Pooooot pt..pt..pt..prrrttt...pt.pt.prrrrttt\")\n",
        "    result = OhMe(['globx', path, pattern])\n",
        "    return result\n",
        "                \n",
        "GlobX('/content/images_in','*.*g')"
      ],
      "execution_count": 0,
      "outputs": []
    },
    {
      "cell_type": "code",
      "metadata": {
        "id": "SdYBjsL32Lt1",
        "colab_type": "code",
        "colab": {}
      },
      "source": [
        "print(img_list)"
      ],
      "execution_count": 0,
      "outputs": []
    },
    {
      "cell_type": "code",
      "metadata": {
        "id": "pq4rwqOdpBE6",
        "colab_type": "code",
        "colab": {}
      },
      "source": [
        "from google.colab import drive\n",
        "drive.mount('/content/drive')"
      ],
      "execution_count": 0,
      "outputs": []
    },
    {
      "cell_type": "code",
      "metadata": {
        "id": "Wj3XaeB0NDaC",
        "colab_type": "code",
        "colab": {}
      },
      "source": [
        "\n",
        "import bz2\n",
        "import os\n",
        "\n",
        "from urllib.request import urlopen\n",
        "\n",
        "def download_landmarks(dst_file):\n",
        "    url = 'http://dlib.net/files/shape_predictor_68_face_landmarks.dat.bz2'\n",
        "    decompressor = bz2.BZ2Decompressor()\n",
        "    \n",
        "    with urlopen(url) as src, open(dst_file, 'wb') as dst:\n",
        "        data = src.read(1024)\n",
        "        while len(data) > 0:\n",
        "            dst.write(decompressor.decompress(data))\n",
        "            data = src.read(1024)\n",
        "\n",
        "dst_dir = 'models'\n",
        "dst_file = os.path.join(dst_dir, 'landmarks.dat')\n",
        "\n",
        "if not os.path.exists(dst_file):\n",
        "    os.makedirs(dst_dir)\n",
        "    download_landmarks(dst_file)\n",
        "\n"
      ],
      "execution_count": 0,
      "outputs": []
    },
    {
      "cell_type": "code",
      "metadata": {
        "id": "cqvAOYIvNYhH",
        "colab_type": "code",
        "colab": {}
      },
      "source": [
        "MainCore.c_d(root)\n",
        "from .model import create_model\n",
        "nn4_small2 = create_model()"
      ],
      "execution_count": 0,
      "outputs": []
    },
    {
      "cell_type": "code",
      "metadata": {
        "id": "F7QEhLYV_Zqf",
        "colab_type": "code",
        "colab": {}
      },
      "source": [
        "def show_one(img):\n",
        "    # A sample image\n",
        "    with cbook.get_sample_data(img) as image_file:\n",
        "        image = plt.imread(image_file)\n",
        "    fig, ax = plt.subplots()\n",
        "    ax.imshow(image)\n",
        "    ax.set_title(img)\n",
        "    ax.axis('off')  # clear x-axis and y-axis\n",
        "    plt.show()\n",
        "\n",
        "show_one('/content/ape+face/00016.png')"
      ],
      "execution_count": 0,
      "outputs": []
    },
    {
      "cell_type": "code",
      "metadata": {
        "id": "2fEhhIjx_iBL",
        "colab_type": "code",
        "colab": {}
      },
      "source": [
        "%matplotlib inline\n",
        "\n",
        "from ipywidgets import Button, Layout, jslink, IntText, IntSlider, TwoByTwoLayout\n",
        "import cv2\n",
        "import matplotlib.pyplot as plt\n",
        "from ipywidgets import interact\n",
        "from sklearn import datasets\n",
        "# We will use the digits dataset from scikit-learn.\n",
        "\n",
        "def browse_images(img_list):\n",
        "\n",
        "    img_list.sort()\n",
        "    # print(img_list)\n",
        "    # filenames = glob.glob(\"/images/*.jpg\")\n",
        "    # filenames.sort()\n",
        "    cv2.IMREAD_UNCHANGED\n",
        "    images = [cv2.imread(img) for img in img_list]\n",
        "    \n",
        "    from ipywidgets import Button, Layout, jslink, IntText, IntSlider\n",
        "\n",
        "    def create_expanded_button(description, button_style):\n",
        "        return Button(description=description, button_style=button_style, layout=Layout(height='auto', width='auto'))\n",
        "\n",
        "    top_left_button = create_expanded_button(\"Top left\", 'info')\n",
        "    bottom_left_button = create_expanded_button(\"Bottom left\", 'info')\n",
        "    top_right_button = create_expanded_button(\"Top right\", 'info')\n",
        "    bottom_right_button = create_expanded_button(\"Bottom right\", 'info')\n",
        "\n",
        "    button_layout = Layout(width='auto', height='auto')\n",
        "\n",
        "    top_left_text = IntText(description='Top left', layout=button_layout)\n",
        "    bottom_left_text = IntText(description='Bottom left', layout=button_layout)\n",
        "    top_right_text = IntText(description='Top right', layout=button_layout)\n",
        "    bottom_right_text = IntText(description='Bottom right', layout=button_layout)\n",
        "\n",
        "    layout_1x1 = TwoByTwoLayout(top_left=top_left_button,\n",
        "                            bottom_right=bottom_right_button,\n",
        "                            merge=True)\n",
        "\n",
        "    n = len(images)\n",
        "    def view_image(i):\n",
        "        plt.imshow(images[i]) # , cmap=plt.cm.Dark2, interpolation='nearest'\n",
        "        plt.title('Training: %s' % img_list[i])\n",
        "        layout_1x1\n",
        "        image = cv2.cvtColor(images[i], cv2.COLOR_BGR2RGB)\n",
        "        pixels = np.array(image)\n",
        "        plt.axis('off')  # clear x-axis and y-axis\n",
        "        plt.imshow(pixels)\n",
        "        \n",
        "        plt.show()\n",
        "\n",
        "    interact(view_image, i=(0,n-1))\n",
        "    \n",
        "if __name__ == '__main__':\n",
        "    images=hlp.Me(['globx','/content/'+images_set_name,'*.png'])\n",
        "    browse_images(images)\n",
        "    # dir(plt.cm)"
      ],
      "execution_count": 0,
      "outputs": []
    },
    {
      "cell_type": "code",
      "metadata": {
        "id": "Xkz8uwGcwUWi",
        "colab_type": "code",
        "colab": {}
      },
      "source": [
        "print(Old_H.Me(['vdir',MainCore]))\n",
        "print(Old_H.Me(['vdir',HelpCore]))\n",
        "print(Old_H.Me(['vdir',FScrape]))\n",
        "print(Old_H.Me(['vdir',Old_H]))\n",
        "print(help(HelpCore.list_to_file))\n",
        "\n",
        "# cle()"
      ],
      "execution_count": 0,
      "outputs": []
    },
    {
      "cell_type": "code",
      "metadata": {
        "id": "GRHqTKhEDolI",
        "colab_type": "code",
        "colab": {}
      },
      "source": [
        "/content/installed_repos/Python_Helpers/Helpers/dosage/setup.py"
      ],
      "execution_count": 0,
      "outputs": []
    },
    {
      "cell_type": "code",
      "metadata": {
        "id": "H5B6eQxWw0PE",
        "colab_type": "code",
        "colab": {}
      },
      "source": [
        "# MainCore.HelpMe('globx','content/images','*.*g*')\n",
        "image_folder_glob = MainCore.HelpMe(['globx','/content/images/','*.*g'])\n",
        "print(image_folder_glob)\n",
        "HelpCore.list_to_file(image_folder_glob,'image_list')"
      ],
      "execution_count": 0,
      "outputs": []
    },
    {
      "cell_type": "code",
      "metadata": {
        "id": "TJ7bC9ZrzTPl",
        "colab_type": "code",
        "colab": {}
      },
      "source": [
        "\n",
        "\n",
        "\n",
        "import ipywidgets as widget\n",
        "from ipywidgets import AppLayout, Button\n",
        "\n",
        "AppLayout(header = Button(desciption = \"Top\"),\n",
        "          footer = Button(description = \"Bottom\"))\n",
        "\n",
        "AppLayout(header=header,\n",
        "          left_sidebar=prev_button,\n",
        "          center=image,\n",
        "          right_sidebar=next_button,\n",
        "          footer=footer,\n",
        "          grid_gap='20px',\n",
        "          justify_items='center',\n",
        "          align_items='center')\n",
        "\n",
        "# create a 10x2 grid layout\n",
        "grid = GridspecLayout(10, 2)\n",
        "# fill it in with widgets\n",
        "grid[:, 0] = map\n",
        "grid[0, 1] = zoom_slider\n",
        "grid[1, 1] = basemap_selector\n",
        "grid[2:, 1] = fig\n",
        "# set the widget properties\n",
        "grid[:, 0].layout.height = 'auto'"
      ],
      "execution_count": 0,
      "outputs": []
    },
    {
      "cell_type": "code",
      "metadata": {
        "id": "eU0X-sg6thze",
        "colab_type": "code",
        "colab": {}
      },
      "source": [
        "\n"
      ],
      "execution_count": 0,
      "outputs": []
    },
    {
      "cell_type": "code",
      "metadata": {
        "id": "RmRnXHiBqYtF",
        "colab_type": "code",
        "colab": {}
      },
      "source": [
        "print(HelpMe(['vdir',IPython]))\n"
      ],
      "execution_count": 0,
      "outputs": []
    },
    {
      "cell_type": "code",
      "metadata": {
        "id": "Q58xG-IMmAKM",
        "colab_type": "code",
        "colab": {}
      },
      "source": [
        "# print(MainCore.HelpMe(['vdir',HelpCore.H]))\n",
        "# print(MainCore.HelpMe(['vdir',HelpCore.H.get_other_reps]))\n",
        "print(HelpCore.docu('Helpers','GoImgScrape'))\n",
        "dir(Helpers.GoImgScrape)\n",
        "# help(HelpCore.docu)\n",
        "# HelpCore.H.flickr_scr()\n",
        "# HelpCore.H.landmarkdetect(img)"
      ],
      "execution_count": 0,
      "outputs": []
    }
  ]
}
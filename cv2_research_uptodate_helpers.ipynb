{
  "nbformat": 4,
  "nbformat_minor": 0,
  "metadata": {
    "colab": {
      "name": "cv2_research_uptodate_helpers.ipynb",
      "provenance": [],
      "private_outputs": true,
      "include_colab_link": true
    },
    "kernelspec": {
      "name": "python3",
      "display_name": "Python 3"
    }
  },
  "cells": [
    {
      "cell_type": "markdown",
      "metadata": {
        "id": "view-in-github",
        "colab_type": "text"
      },
      "source": [
        "<a href=\"https://colab.research.google.com/github/bxck75/Python_Helpers/blob/master/cv2_research_uptodate_helpers.ipynb\" target=\"_parent\"><img src=\"https://colab.research.google.com/assets/colab-badge.svg\" alt=\"Open In Colab\"/></a>"
      ]
    },
    {
      "cell_type": "code",
      "metadata": {
        "id": "yCPOI5cujDdD",
        "colab_type": "code",
        "colab": {}
      },
      "source": [
        "# !wget https://gist.githubusercontent.com/bxck75/21a19bc89876ce0e419fdbf39979d133/raw/946f0c361a8ac107cb198b3293b5dea6fc17a53e/WootWoot.py"
      ],
      "execution_count": 0,
      "outputs": []
    },
    {
      "cell_type": "code",
      "metadata": {
        "id": "ev8cZaM2jNvY",
        "colab_type": "code",
        "colab": {}
      },
      "source": [
        "''' install 3dparty sheit '''\n",
        "from IPython.display import clear_output as cle\n",
        "from pprint import pprint as print\n",
        "from PIL import Image\n",
        "import os\n",
        "import sys\n",
        "import json\n",
        "import IPython\n",
        "\n",
        "''' default sample data delete '''\n",
        "os.system('rm -r sample_data')\n",
        "\n",
        "''' set root paths '''\n",
        "root = '/content'\n",
        "gdrive_root = '/content/drive/My Drive'\n",
        "helpers_root = root + '/installed_repos/Python_Helpers'\n",
        "\n",
        "''' setup install the Helpers module '''\n",
        "os.system('git clone https://github.com/bxck75/Python_Helpers.git ' + helpers_root) \n",
        "os.system('python ' + helpers_root + 'setup.py install')\n",
        "\n",
        "''' import helpers '''\n",
        "os.chdir(helpers_root)\n",
        "import main as main_core\n",
        "MainCore = main_core.main()\n",
        "HelpCore = MainCore.Helpers_Core\n",
        "FScrape = HelpCore.flickr_scrape\n",
        "fromGdrive = HelpCore.GdriveD\n",
        "toGdrive = HelpCore.ZipUp\n",
        "\n",
        "# cle()"
      ],
      "execution_count": 0,
      "outputs": []
    },
    {
      "cell_type": "code",
      "metadata": {
        "id": "wMn4sDsmanIk",
        "colab_type": "code",
        "colab": {}
      },
      "source": [
        "\n",
        "# HelpCore.ImgTools(input,output).help\n",
        "    "
      ],
      "execution_count": 0,
      "outputs": []
    },
    {
      "cell_type": "code",
      "metadata": {
        "id": "4NaquVH_PMoJ",
        "colab_type": "code",
        "colab": {}
      },
      "source": [
        "dir(fromGdrive)\n",
        "# 194 landmarks model https://drive.google.com/open?id=1fMOT_0f5clPbZXsphZyrGcLXkIhSDl3o\n",
        "# 68  landmarks model https://drive.google.com/open?id=1KNfN-ktxbPJMtmdiL-I1WW0IO1B_2EG2\n",
        "# landmarks_68_file=  ['1KNfN-ktxbPJMtmdiL-I1WW0IO1B_2EG2', '/content/shape_predictor_68_face_landmarks.dat']\n",
        "landmarks_194_file= ['1fMOT_0f5clPbZXsphZyrGcLXkIhSDl3o','/content/shape_predictor_194_face_landmarks.dat']\n",
        "# fromGdrive.GdriveD(landmarks_68_file[0],landmarks_68_file[1])\n",
        "fromGdrive.GdriveD(landmarks_194_file[0],landmarks_194_file[1])"
      ],
      "execution_count": 0,
      "outputs": []
    },
    {
      "cell_type": "code",
      "metadata": {
        "id": "K6za0kuz3X_D",
        "colab_type": "code",
        "colab": {}
      },
      "source": [
        "FScrape(['inca'], 10, '/content/images')\n",
        "MainCore.Sys_Exec('pip install GoogleScraper')\n",
        "import GoogleScraper"
      ],
      "execution_count": 0,
      "outputs": []
    },
    {
      "cell_type": "code",
      "metadata": {
        "id": "FZAYqJayBQNg",
        "colab_type": "code",
        "colab": {}
      },
      "source": [
        "print(MainCore.Helpers_Core.cloner('/content/images'))\n"
      ],
      "execution_count": 0,
      "outputs": []
    },
    {
      "cell_type": "code",
      "metadata": {
        "id": "HiZ6v3VyjfDq",
        "colab_type": "code",
        "colab": {}
      },
      "source": [
        "sys.exit(1)"
      ],
      "execution_count": 0,
      "outputs": []
    },
    {
      "cell_type": "code",
      "metadata": {
        "id": "8XGgROWB_39d",
        "colab_type": "code",
        "colab": {}
      },
      "source": [
        "# !rm -r /content/installed_repos/images\n",
        "# !mkdir -p /content/installed_repos/SearchData\n",
        "# !echo \"face\" > /content/installed_repos/SearchData/5words"
      ],
      "execution_count": 0,
      "outputs": []
    },
    {
      "cell_type": "code",
      "metadata": {
        "id": "yx0d2CdIAbpj",
        "colab_type": "code",
        "colab": {}
      },
      "source": [
        "# %%writefile /content/installed_repos/SearchData/5words\n",
        "# face\n",
        "# zombie\n",
        "# ork\n",
        "# wizard\n",
        "# ugly"
      ],
      "execution_count": 0,
      "outputs": []
    },
    {
      "cell_type": "code",
      "metadata": {
        "id": "0hfwovE444Ez",
        "colab_type": "code",
        "colab": {}
      },
      "source": [
        "dir(main_core)"
      ],
      "execution_count": 0,
      "outputs": []
    },
    {
      "cell_type": "code",
      "metadata": {
        "id": "4HAxNgbB2x7Z",
        "colab_type": "code",
        "colab": {}
      },
      "source": [
        "# '''Crawl'''\n",
        "# search_input='poep'\n",
        "# ext='png'\n",
        "# qty = 21\n",
        "\n",
        "# search = search_input + ' ext:' + ext\n",
        "# ICrawl.crawl(search,max_num=qty)"
      ],
      "execution_count": 0,
      "outputs": []
    },
    {
      "cell_type": "code",
      "metadata": {
        "id": "EHD53XTS3EsI",
        "colab_type": "code",
        "colab": {}
      },
      "source": [
        "dir(main_core.Helpers)"
      ],
      "execution_count": 0,
      "outputs": []
    },
    {
      "cell_type": "code",
      "metadata": {
        "id": "PAgyFLRj_cRK",
        "colab_type": "code",
        "colab": {}
      },
      "source": [
        "# img_list = HelpCore.GlobX(img_dir,'*.*g')\n",
        "# img_list=OhMe(['globx', img_dir, '*.png'])\n",
        "# img_list.sort()\n",
        "# print(img_list)\n",
        "# from pprint import pprint as print\n",
        "# # cle()\n",
        "\n",
        "# def GlobX( path, pattern):\n",
        "#     ''' Glob folders on pattern '''\n",
        "#     import inspect, os, sys\n",
        "#     log_msg = 'Searching  ' + str(path) + ' for  ' + pattern\n",
        "#     func_name=inspect.stack()[0][3]\n",
        "#     HelpCore.sys_log(func_name + ' <~[LOGGED]~> ' + log_msg)\n",
        "    \n",
        "\n",
        "#     cmd = ['globx', path, pattern]\n",
        "#     HelpCore.cprint(\"GlobGloBGloB....\",'warn')\n",
        "#     HelpCore.sys_log(func_name + ' <~[LOGGED]~> ' + \"GloBGloBGloB....\" + path + '/' + pattern)\n",
        "#     HelpCore.cprint(\"Pooooot pt..pt..pt..prrrttt...pt.pt.prrrrttt\",'pass')\n",
        "#     HelpCore.sys_log(func_name + ' <~[LOGGED]~> ' + \"Pooooot pt..pt..pt..prrrttt...pt.pt.prrrrttt\")\n",
        "#     result = OhMe(['globx', path, pattern])\n",
        "#     return result\n",
        "                \n",
        "# GlobX('/content/images_in','*.*g')"
      ],
      "execution_count": 0,
      "outputs": []
    },
    {
      "cell_type": "code",
      "metadata": {
        "id": "SdYBjsL32Lt1",
        "colab_type": "code",
        "colab": {}
      },
      "source": [
        "help(os.makedirs)"
      ],
      "execution_count": 0,
      "outputs": []
    },
    {
      "cell_type": "code",
      "metadata": {
        "id": "Wj3XaeB0NDaC",
        "colab_type": "code",
        "colab": {}
      },
      "source": [
        "os.chdir(root)\n",
        "import bz2\n",
        "import os\n",
        "from urllib.request import urlopen\n",
        "\n",
        "def read_landmarks(dst_file):\n",
        "    with open(dst_file, 'wb') as dst:\n",
        "        data = src.read(1024)\n",
        "        while len(data) > 0:\n",
        "            dst.write(decompressor.decompress(data))\n",
        "            data = src.read(1024)\n",
        "\n",
        "read_landmarks('/content/shape_predictor_194_face_landmarks.dat')\n",
        "# os.makedirs('/content/models',exist_ok=True) \n",
        "# dst_dir = '/content/models'\n",
        "# dst_file = os.path.join(dst_dir, 'landmarks.dat')\n",
        "\n",
        "# if not os.path.exists('/content/shape_predictor_194_face_landmarks.dat'):\n",
        "#     os.makedirs('/content/shape_predictor_194_face_landmarks.dat',,exist_ok=True)\n",
        "#     download_landmarks('/content/shape_predictor_194_face_landmarks.dat')\n",
        "\n"
      ],
      "execution_count": 0,
      "outputs": []
    },
    {
      "cell_type": "code",
      "metadata": {
        "id": "cqvAOYIvNYhH",
        "colab_type": "code",
        "colab": {}
      },
      "source": [
        "MainCore.c_d(root)\n",
        "from .model import create_model\n",
        "nn4_small2 = create_model()"
      ],
      "execution_count": 0,
      "outputs": []
    },
    {
      "cell_type": "code",
      "metadata": {
        "id": "F7QEhLYV_Zqf",
        "colab_type": "code",
        "colab": {}
      },
      "source": [
        "def show_one(img):\n",
        "    # A sample image\n",
        "    with cbook.get_sample_data(img) as image_file:\n",
        "        image = plt.imread(image_file)\n",
        "    fig, ax = plt.subplots()\n",
        "    ax.imshow(image)\n",
        "    ax.set_title(img)\n",
        "    ax.axis('off')  # clear x-axis and y-axis\n",
        "    plt.show()\n",
        "\n",
        "show_one('/content/ape+face/00016.png')"
      ],
      "execution_count": 0,
      "outputs": []
    },
    {
      "cell_type": "code",
      "metadata": {
        "id": "2fEhhIjx_iBL",
        "colab_type": "code",
        "colab": {}
      },
      "source": [
        "%matplotlib inline\n",
        "\n",
        "from ipywidgets import Button, Layout, jslink, IntText, IntSlider, TwoByTwoLayout\n",
        "import cv2\n",
        "import matplotlib.pyplot as plt\n",
        "from ipywidgets import interact\n",
        "from sklearn import datasets\n",
        "# We will use the digits dataset from scikit-learn.\n",
        "\n",
        "def browse_images(img_list):\n",
        "\n",
        "    img_list.sort()\n",
        "    # print(img_list)\n",
        "    # filenames = glob.glob(\"/images/*.jpg\")\n",
        "    # filenames.sort()\n",
        "    cv2.IMREAD_UNCHANGED\n",
        "    images = [cv2.imread(img) for img in img_list]\n",
        "    \n",
        "    from ipywidgets import Button, Layout, jslink, IntText, IntSlider\n",
        "\n",
        "    def create_expanded_button(description, button_style):\n",
        "        return Button(description=description, button_style=button_style, layout=Layout(height='auto', width='auto'))\n",
        "\n",
        "    top_left_button = create_expanded_button(\"Top left\", 'info')\n",
        "    bottom_left_button = create_expanded_button(\"Bottom left\", 'info')\n",
        "    top_right_button = create_expanded_button(\"Top right\", 'info')\n",
        "    bottom_right_button = create_expanded_button(\"Bottom right\", 'info')\n",
        "\n",
        "    button_layout = Layout(width='auto', height='auto')\n",
        "\n",
        "    top_left_text = IntText(description='Top left', layout=button_layout)\n",
        "    bottom_left_text = IntText(description='Bottom left', layout=button_layout)\n",
        "    top_right_text = IntText(description='Top right', layout=button_layout)\n",
        "    bottom_right_text = IntText(description='Bottom right', layout=button_layout)\n",
        "\n",
        "    layout_1x1 = TwoByTwoLayout(top_left=top_left_button,\n",
        "                            bottom_right=bottom_right_button,\n",
        "                            merge=True)\n",
        "\n",
        "    n = len(images)\n",
        "    def view_image(i):\n",
        "        plt.imshow(images[i]) # , cmap=plt.cm.Dark2, interpolation='nearest'\n",
        "        plt.title('Training: %s' % img_list[i])\n",
        "        layout_1x1\n",
        "        image = cv2.cvtColor(images[i], cv2.COLOR_BGR2RGB)\n",
        "        pixels = np.array(image)\n",
        "        plt.axis('off')  # clear x-axis and y-axis\n",
        "        plt.imshow(pixels)\n",
        "        \n",
        "        plt.show()\n",
        "\n",
        "    interact(view_image, i=(0,n-1))\n",
        "    \n",
        "if __name__ == '__main__':\n",
        "    images=hlp.Me(['globx','/content/'+images_set_name,'*.png'])\n",
        "    browse_images(images)\n",
        "    # dir(plt.cm)"
      ],
      "execution_count": 0,
      "outputs": []
    },
    {
      "cell_type": "code",
      "metadata": {
        "id": "Xkz8uwGcwUWi",
        "colab_type": "code",
        "colab": {}
      },
      "source": [
        "print(Old_H.Me(['vdir',MainCore]))\n",
        "print(Old_H.Me(['vdir',HelpCore]))\n",
        "print(Old_H.Me(['vdir',FScrape]))\n",
        "print(Old_H.Me(['vdir',Old_H]))\n",
        "print(help(HelpCore.list_to_file))\n",
        "\n",
        "# cle()"
      ],
      "execution_count": 0,
      "outputs": []
    },
    {
      "cell_type": "code",
      "metadata": {
        "id": "GRHqTKhEDolI",
        "colab_type": "code",
        "colab": {}
      },
      "source": [
        "/content/installed_repos/Python_Helpers/Helpers/dosage/setup.py"
      ],
      "execution_count": 0,
      "outputs": []
    },
    {
      "cell_type": "code",
      "metadata": {
        "id": "H5B6eQxWw0PE",
        "colab_type": "code",
        "colab": {}
      },
      "source": [
        "# MainCore.HelpMe('globx','content/images','*.*g*')\n",
        "image_folder_glob = MainCore.HelpMe(['globx','/content/images/','*.*g'])\n",
        "print(image_folder_glob)\n",
        "HelpCore.list_to_file(image_folder_glob,'image_list')"
      ],
      "execution_count": 0,
      "outputs": []
    },
    {
      "cell_type": "code",
      "metadata": {
        "id": "TJ7bC9ZrzTPl",
        "colab_type": "code",
        "colab": {}
      },
      "source": [
        "\n",
        "\n",
        "\n",
        "import ipywidgets as widget\n",
        "from ipywidgets import AppLayout, Button\n",
        "\n",
        "AppLayout(header = Button(desciption = \"Top\"),\n",
        "          footer = Button(description = \"Bottom\"))\n",
        "\n",
        "AppLayout(header=header,\n",
        "          left_sidebar=prev_button,\n",
        "          center=image,\n",
        "          right_sidebar=next_button,\n",
        "          footer=footer,\n",
        "          grid_gap='20px',\n",
        "          justify_items='center',\n",
        "          align_items='center')\n",
        "\n",
        "# create a 10x2 grid layout\n",
        "grid = GridspecLayout(10, 2)\n",
        "# fill it in with widgets\n",
        "grid[:, 0] = map\n",
        "grid[0, 1] = zoom_slider\n",
        "grid[1, 1] = basemap_selector\n",
        "grid[2:, 1] = fig\n",
        "# set the widget properties\n",
        "grid[:, 0].layout.height = 'auto'"
      ],
      "execution_count": 0,
      "outputs": []
    },
    {
      "cell_type": "code",
      "metadata": {
        "id": "eU0X-sg6thze",
        "colab_type": "code",
        "colab": {}
      },
      "source": [
        "'''\n",
        "face detection using haar cascades\n",
        "\n",
        "USAGE:\n",
        "    facedetect.py [--cascade <cascade_fn>] [--nested-cascade <cascade_fn>] [<video_source>]\n",
        "'''\n",
        "# Python 2/3 compatibility\n",
        "from __future__ import print_function\n",
        "import numpy as np\n",
        "import cv2 as cv\n",
        "# local modules\n",
        "from video import create_capture\n",
        "from common import clock, draw_str\n",
        "\n",
        "\n",
        "def detect(img, cascade):\n",
        "    rects = cascade.detectMultiScale(img, scaleFactor=1.3, minNeighbors=4, minSize=(30, 30),\n",
        "                                     flags=cv.CASCADE_SCALE_IMAGE)\n",
        "    if len(rects) == 0:\n",
        "        return []\n",
        "    rects[:,2:] += rects[:,:2]\n",
        "    return rects\n",
        "\n",
        "def draw_rects(img, rects, color):\n",
        "    for x1, y1, x2, y2 in rects:\n",
        "        cv.rectangle(img, (x1, y1), (x2, y2), color, 2)\n",
        "\n",
        "def main():\n",
        "    import sys\n",
        "    cascade_fn = \"/content/installed_repos/Python_Helpers/Helpers/haarcascade_frontalface_alt.xml\"\n",
        "    nested_fn  = \"/content/installed_repos/Python_Helpers/Helpers/haarcascade_eye.xml\"\n",
        "\n",
        "    cascade = cv.CascadeClassifier(cv.samples.findFile(cascade_fn))\n",
        "    nested = cv.CascadeClassifier(cv.samples.findFile(nested_fn))\n",
        "    \n",
        "    cam = create_capture(video_src, fallback='synth:bg={}:noise=0.05'.format(cv.samples.findFile('samples/data/lena.jpg')))\n",
        "\n",
        "    while True:\n",
        "        ret, img = cam.read()\n",
        "        gray = cv.cvtColor(img, cv.COLOR_BGR2GRAY)\n",
        "        gray = cv.equalizeHist(gray)\n",
        "        t = clock()\n",
        "        rects = detect(gray, cascade)\n",
        "        vis = img.copy()\n",
        "        draw_rects(vis, rects, (0, 255, 0))\n",
        "        if not nested.empty():\n",
        "            for x1, y1, x2, y2 in rects:\n",
        "                roi = gray[y1:y2, x1:x2]\n",
        "                vis_roi = vis[y1:y2, x1:x2]\n",
        "                subrects = detect(roi.copy(), nested)\n",
        "                draw_rects(vis_roi, subrects, (255, 0, 0))\n",
        "        dt = clock() - t\n",
        "        draw_str(vis, (20, 20), 'time: %.1f ms' % (dt*1000))\n",
        "        plt.imshow('facedetect', vis)\n",
        "        if cv.waitKey(5) == 27:\n",
        "            break\n",
        "\n",
        "    print('Done')\n",
        "\n",
        "\n",
        "if __name__ == '__main__':\n",
        "    print(__doc__)\n",
        "    main()\n",
        "    cv.destroyAllWindows()\n",
        "\n"
      ],
      "execution_count": 0,
      "outputs": []
    },
    {
      "cell_type": "code",
      "metadata": {
        "id": "RmRnXHiBqYtF",
        "colab_type": "code",
        "colab": {}
      },
      "source": [
        "print(HelpMe(['vdir',IPython]))\n"
      ],
      "execution_count": 0,
      "outputs": []
    },
    {
      "cell_type": "code",
      "metadata": {
        "id": "Q58xG-IMmAKM",
        "colab_type": "code",
        "colab": {}
      },
      "source": [
        "# print(MainCore.HelpMe(['vdir',HelpCore.H]))\n",
        "# print(MainCore.HelpMe(['vdir',HelpCore.H.get_other_reps]))\n",
        "print(HelpCore.docu('Helpers','GoImgScrape'))\n",
        "dir(Helpers.GoImgScrape)\n",
        "# help(HelpCore.docu)\n",
        "# HelpCore.H.flickr_scr()\n",
        "# HelpCore.H.landmarkdetect(img)"
      ],
      "execution_count": 0,
      "outputs": []
    },
    {
      "cell_type": "code",
      "metadata": {
        "id": "tB-BVMgUrXcr",
        "colab_type": "code",
        "colab": {}
      },
      "source": [
        "\n",
        "# Python 2/3 compatibility\n",
        "from __future__ import print_function\n",
        "\n",
        "import numpy as np\n",
        "import cv2 as cv\n",
        "\n",
        "from common import Sketcher\n",
        "\n",
        "def main():\n",
        "    import sys\n",
        "    try:\n",
        "        fn = sys.argv[1]\n",
        "    except:\n",
        "        fn = 'fruits.jpg'\n",
        "\n",
        "    img = cv.imread(cv.samples.findFile(fn))\n",
        "    if img is None:\n",
        "        print('Failed to load image file:', fn)\n",
        "        sys.exit(1)\n",
        "\n",
        "    img_mark = img.copy()\n",
        "    mark = np.zeros(img.shape[:2], np.uint8)\n",
        "    sketch = Sketcher('img', [img_mark, mark], lambda : ((255, 255, 255), 255))\n",
        "\n",
        "    while True:\n",
        "        ch = cv.waitKey()\n",
        "        if ch == 27:\n",
        "            break\n",
        "        if ch == ord(' '):\n",
        "            res = cv.inpaint(img_mark, mark, 3, cv.INPAINT_TELEA)\n",
        "            cv.imshow('inpaint', res)\n",
        "        if ch == ord('r'):\n",
        "            img_mark[:] = img\n",
        "            mark[:] = 0\n",
        "            sketch.show()\n",
        "\n",
        "    print('Done')\n",
        "\n",
        "\n",
        "if __name__ == '__main__':\n",
        "    print(__doc__)\n",
        "    main()\n",
        "    cv.destroyAllWindows()"
      ],
      "execution_count": 0,
      "outputs": []
    }
  ]
}
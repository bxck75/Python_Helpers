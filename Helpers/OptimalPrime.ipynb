{
  "nbformat": 4,
  "nbformat_minor": 0,
  "metadata": {
    "colab": {
      "name": "OptimalPrime.ipynb",
      "provenance": [],
      "private_outputs": true,
      "collapsed_sections": []
    },
    "kernelspec": {
      "name": "python3",
      "display_name": "Python 3"
    },
    "accelerator": "GPU"
  },
  "cells": [
    {
      "cell_type": "markdown",
      "metadata": {
        "id": "xNcl3-7POExZ",
        "colab_type": "text"
      },
      "source": [
        "# New start......"
      ]
    },
    {
      "cell_type": "code",
      "metadata": {
        "id": "6rf6pH_2zbGE",
        "colab_type": "code",
        "colab": {}
      },
      "source": [
        "%cd /content/PyHelpers\n",
        "!ls -a\n",
        "!git add .\n",
        "!git commit -m 'commit 1 from colabs'"
      ],
      "execution_count": 0,
      "outputs": []
    },
    {
      "cell_type": "code",
      "metadata": {
        "id": "tMLnox5Ewap0",
        "colab_type": "code",
        "colab": {}
      },
      "source": [
        "# !cat '/content/PyHelpers/Libs/OptimalPrime.ipynb'"
      ],
      "execution_count": 0,
      "outputs": []
    },
    {
      "cell_type": "code",
      "metadata": {
        "id": "w_wTqIQtxBBd",
        "colab_type": "code",
        "colab": {}
      },
      "source": [
        ""
      ],
      "execution_count": 0,
      "outputs": []
    },
    {
      "cell_type": "code",
      "metadata": {
        "id": "zzQLFMRDMsTM",
        "colab_type": "code",
        "colab": {}
      },
      "source": [
        "# !git clone https://github.com/bxck75/PyHelpers.git\n",
        "import os\n",
        "import subprocess\n",
        "from IPython.display import clear_output\n",
        "!python /content/PyHelpers/__main__.py \n",
        "# clear_output()\n",
        "# help('__main__')"
      ],
      "execution_count": 0,
      "outputs": []
    },
    {
      "cell_type": "code",
      "metadata": {
        "id": "mqx79l2SOh6q",
        "colab_type": "code",
        "colab": {}
      },
      "source": [
        "%%writefile /content/PyHelpers/__main__.py\n",
        "import os\n",
        "import subprocess\n",
        "from Libs import BigHelp\n",
        "global _ROOT_FOLDER_\n",
        "global _LIB_\n",
        "_ROOT_FOLDER_='/content/PyHelpers/'\n",
        "_LIB_=_ROOT_FOLDER_+'Libs/'\n",
        "import subprocess\n",
        "\n",
        "\n",
        "import importlib.util as impylib\n",
        "# print(len(H.Me(['globx',_LIB_,'*.py'])))\n",
        "\n",
        "import argparse\n",
        "parser = argparse.ArgumentParser()\n",
        "parser.add_argument('--dev', defaults=False, help='foo help')\n",
        "args = parser.parse_args()\n",
        "\n",
        "class Stimpy_Imp:\n",
        "    \n",
        "    def __init__(self,dev=False):\n",
        "        self.dev = dev\n",
        "        self.cmd_com = self.system_cmd()\n",
        "        # main helper loading\n",
        "        self.RootHelperFile ='BigHelp'\n",
        "        self.H = self.load_lib(self.RootHelperFile)\n",
        "        # module list loading\n",
        "        self.H = self.load_lib('live_list', _ROOT_FOLDER_)\n",
        "        self.H = self.load_lib('experimental_list', _ROOT_FOLDER_)\n",
        "        # Live modules list\n",
        "        self.libs_list = [\n",
        "                            'ZipUp',\n",
        "                            'RepCoList',\n",
        "                            'send_mail'\n",
        "                         ]\n",
        "        # experimental modules list\n",
        "        self.libs_experimental_list = self.libs_list +[\n",
        "                                                        'GdriveD',\n",
        "                                                        'RamGpu',\n",
        "                                                        'GitAid',\n",
        "                                                        'Fileview',\n",
        "                                                        'custom_functions',\n",
        "                                                        'FiFyFo',\n",
        "                                                      ]\n",
        "        self.list_to_load =self.libs_list\n",
        "        if self.dev == True:\n",
        "            self.list_to_load = self.libs_experimental_list   \n",
        "        # load the modules into the globals\n",
        "        for lib in self.list_to_load:\n",
        "            globals()[lib] = self.load_lib(str(lib))\n",
        "    \n",
        "        \n",
        "    def load_lib(self,lib_file,folder=_LIB_+'/'):\n",
        "        '''\n",
        "            1Get the specs from the file\n",
        "            2Make a module outof the specs\n",
        "            3init the module into the globals()[name] (same as import...)\n",
        "        ''' \n",
        "        module_path = folder+lib_file+'.py'\n",
        "        print('Module : '+ lib_file +' Loaded!')\n",
        "        if self.dev==True:\n",
        "            print(module_path)\n",
        "            \n",
        "        dummy = impylib.spec_from_file_location(\"module.name\",module_path )\n",
        "        Imp = impylib.module_from_spec(dummy)\n",
        "        dummy.loader.exec_module(Imp)\n",
        "        \n",
        "        return Imp\n",
        "        \n",
        "    \n",
        "    \n",
        "    def system_cmd(cmd,args,vals):\n",
        "        cmd = ['', '--arg', 'value']\n",
        "        proc_out=[]\n",
        "        p = subprocess.Popen(cmd, stdout=subprocess.PIPE)\n",
        "        for line in p.stdout:\n",
        "            proc_out.append(line)\n",
        "        # print(line)\n",
        "        p.wait()\n",
        "        print(p.returncode)\n",
        "        print(proc_out)\n",
        "\n",
        "\n",
        "        \n",
        "         \n",
        "# #Big Helpers Loading\n",
        "# from pathlib import Path\n",
        "# import os, inspect\n",
        "# try:\n",
        "#     os.system('rm -r /content/sample_data')\n",
        "#     os.system('rm -r /content/ProjectPrimer.py')\n",
        "# except:\n",
        "#     print('No default garbage to remove')\n",
        "\n",
        "# # lib_file=Path('/content/lib/Helpers.py')\n",
        "# # if not lib_file.is_file():\n",
        "\n",
        "# #     os.system('wget https://raw.githubusercontent.com/bxck75/PyHelpers/master/BigHelp.py -O /content/lib/BigHelp.py')\n",
        "# # os.chdir('/content/')\n",
        "# # import the biggest help\n",
        "# from Libs.BigHelp import Helpers\n",
        "# # installing done......bring in the helpers!\n",
        "# global H\n",
        "# H=Helpers()\n",
        "# # bring in the helpers!\n",
        "# H.Me(['cml','echo \"Pull in the helpers!\"'])\n",
        "# H.prime=['bxck75/PyHelpers']\n",
        "# H.Me(['inst_reps',H.prime,'/content/lib',True,True])\n",
        "# H.Me(['cml','echo \"All Done!\"'])\n",
        "# # os.chdir('/content/')\n",
        "# os.system('rm -r /content/lib/BigHelp.py')\n",
        "\n",
        "# check the new module\n",
        "Stimpy_Imp()\n",
        "# print(dir(experimental))\n",
        "# help(sys.argv[2])\n"
      ],
      "execution_count": 0,
      "outputs": []
    },
    {
      "cell_type": "code",
      "metadata": {
        "id": "ryypdLKbug_3",
        "colab_type": "code",
        "colab": {}
      },
      "source": [
        "print(SI)\n",
        "print(experimental_list)"
      ],
      "execution_count": 0,
      "outputs": []
    },
    {
      "cell_type": "code",
      "metadata": {
        "id": "6wBTYlBYm1EA",
        "colab_type": "code",
        "colab": {}
      },
      "source": [
        "%%writefile /content/PyHelpers/live_list.py\n",
        "live_mods=[\n",
        "        'ZipUp',\n",
        "        'RepCoList',\n",
        "        'send_mail'\n",
        "       ]"
      ],
      "execution_count": 0,
      "outputs": []
    },
    {
      "cell_type": "code",
      "metadata": {
        "id": "sgnpbpY0tIac",
        "colab_type": "code",
        "colab": {}
      },
      "source": [
        "%%writefile /content/PyHelpers/experimental_list.py\n",
        "x_mods=[\n",
        "        'GdriveD',\n",
        "        'RamGpu',\n",
        "        'GitAid',\n",
        "        'Fileview',\n",
        "        'custom_functions',\n",
        "        'FiFyFo',\n",
        "        ]"
      ],
      "execution_count": 0,
      "outputs": []
    },
    {
      "cell_type": "code",
      "metadata": {
        "id": "QIWhsR3Wt3Hi",
        "colab_type": "code",
        "colab": {}
      },
      "source": [
        "'''Own functions list'''\n",
        "def get_gdrive_dataset(pack, DS_root='datasets',GD_root='datasets'):\n",
        "    import google\n",
        "    from google.colab import drive\n",
        "    drive.mount('/content/drive', force_remount=True)\n",
        "    H.GD_ROOT=GD_root+'/'\n",
        "    H.DS_ROOT=DS_root+'/'\n",
        "    os.chdir(H.gdrive_root+H.GD_ROOT)\n",
        "    H.Me(['mkd',[DS_root,'models'],H.pix_root])\n",
        "    H.Me(['cml','cp -r '+pack+' '+H.pix_root+DS_root])\n",
        "    os.chdir(H.pix_root+DS_root)\n",
        "    H.Me(['cml','unzip -q '+pack])\n",
        "    H.Me(['cml','rm -r '+pack])\n",
        "    os.chdir(H.pix_root)\n",
        "\n",
        "def MethHelp(libs):\n",
        "    os_help=H.Me(['vdir',libs])\n",
        "    #make a list containing libs values of os_help\n",
        "    listOfLibs = [x[0] for x in os_help]\n",
        "    #make a list containing libs method values of os_help\n",
        "    listOfMethods= [x[1] for x in os_help]\n",
        "    # Create a zipped list of tuples from above lists\n",
        "    zippedList =  list(zip(listOfLibs, listOfMethods[0:5]))\n",
        "    zippedList\n",
        "    # request help on method from list\n",
        "    return zippedList\n",
        "    \n",
        "def loadTboard():\n",
        "  '''load tensorboard'''\n",
        "    import datetime, os\n",
        "    # install tensorboard\n",
        "#     H.Me(['cml','pip install -q tensorflow'])\n",
        "    # Load the TensorBoard notebook extension\n",
        "    try:\n",
        "        %load_ext tensorboard\n",
        "    except:\n",
        "        %reload_ext tensorboard\n"
      ],
      "execution_count": 0,
      "outputs": []
    },
    {
      "cell_type": "code",
      "metadata": {
        "id": "Qed6yCuXgAMG",
        "colab_type": "code",
        "colab": {}
      },
      "source": [
        "# !wget https://raw.githubusercontent.com/bxck75/PyHelpers/master/ProjectPrimer.py\n",
        "# !python ProjectPrimer.py\n",
        "from lib.PyHelpers.ProjectPrimer import H\n",
        "from IPython.display import clear_output\n",
        "from lib import PyHelpers\n",
        "from lib.PyHelpers import RepCoList,RamGpu,GdriveD,ZipUp\n",
        "H.Me(['vdir',[ZipUp]])\n",
        "\n",
        "clear_output()"
      ],
      "execution_count": 0,
      "outputs": []
    },
    {
      "cell_type": "code",
      "metadata": {
        "id": "PEOhL7smUWlA",
        "colab_type": "code",
        "colab": {}
      },
      "source": [
        "from lib import PyHelpers\n",
        "from lib.PyHelpers import RepCoList,RamGpu,GdriveD,ZipUp,BigHelp\n",
        "H.zip_to_drive = ZipUp.ZipUp\n",
        "H.Me(['vdir',[H.zip_to_drive]])"
      ],
      "execution_count": 0,
      "outputs": []
    },
    {
      "cell_type": "code",
      "metadata": {
        "id": "wylvOeLrS2Ha",
        "colab_type": "code",
        "colab": {}
      },
      "source": [
        "sheit_to = H.zip_to_drive('sample_data', # name of zipfile\n",
        "                            '/content/drive/My Drive', # folder to push the zip to\n",
        "                            '/content/sample_data') # folder to zip\n",
        "print(sheit_to.ZipUp)\n",
        "H.Me(['vdir',[H.zip_to_drive]])"
      ],
      "execution_count": 0,
      "outputs": []
    },
    {
      "cell_type": "code",
      "metadata": {
        "id": "fosfN99tq-gI",
        "colab_type": "code",
        "colab": {}
      },
      "source": [
        "# H.Me(['vdir',[BigHelp,GdriveD]])\n",
        "%cd /content/"
      ],
      "execution_count": 0,
      "outputs": []
    },
    {
      "cell_type": "code",
      "metadata": {
        "id": "ms_Ja1c-d4ya",
        "colab_type": "code",
        "colab": {}
      },
      "source": [
        "import os\n",
        "os.system('pip install -U -q PyDrive')\n",
        "from google.colab import files\n",
        "from pydrive.auth import GoogleAuth\n",
        "from pydrive.drive import GoogleDrive\n",
        "from google.colab import auth\n",
        "from oauth2client.client import GoogleCredentials\n",
        "import zipfile\n",
        "import os\n",
        "import sys\n",
        "\n",
        "class ZipUp:\n",
        "\n",
        "    def __init__(self, zipname, foldername, target_dir):\n",
        "        ''' init the details for the zip and push'''\n",
        "        self.zipname = zipname\n",
        "        self.foldername = foldername\n",
        "        self.target_dir = target_dir\n",
        "\n",
        "    @property\n",
        "    def ZipUp(self):\n",
        "        ''' define the zip_n_push property'''\n",
        "        if( self.zipname !='' and self.foldername != '' and self.target_dir != '' ):\n",
        "            self.zipfolder()\n",
        "            self.g_login()\n",
        "            self.make_push()\n",
        "            self.status = self.status + self.get_id()\n",
        "            return self.status\n",
        "        \n",
        "    def zipfolder(self):\n",
        "        ''' zip the selected folder to the target dir with '''\n",
        "        zipobj = zipfile.ZipFile(self.zipname + '.zip', 'w', zipfile.ZIP_DEFLATED)\n",
        "        rootlen = len(self.target_dir) + 1\n",
        "        for base, dirs, files in os.walk(self.target_dir):\n",
        "            for file in files:\n",
        "                fn = os.path.join(base, file)\n",
        "                zipobj.write(fn, fn[rootlen:])\n",
        "        self.status='zipped '\n",
        "                \n",
        "    def g_login(self):\n",
        "        ''' Authenticate and create the PyDrive client.'''\n",
        "        auth.authenticate_user()\n",
        "        gauth = GoogleAuth()\n",
        "        gauth.credentials = GoogleCredentials.get_application_default()\n",
        "        self.drive = GoogleDrive(gauth)\n",
        "        self.status= self.status+'and '\n",
        "        \n",
        "    def make_push(self):\n",
        "        ''' Create & upload a file text file.'''\n",
        "        file1 = self.drive.CreateFile({'id':self.get_id()})\n",
        "        file1.SetContentFile(self.zipname+\".zip\")\n",
        "        file1.Upload()\n",
        "        self.status= self.status+'pushed! (id) '\n",
        "\n",
        "    def get_id(self):\n",
        "        query = \"title = '\"+self.zipname+\".zip'\"\n",
        "        file_list = self.drive.ListFile({'q': query}).GetList()\n",
        "        for file in file_list:\n",
        "            if file['labels']['trashed'] ==False:\n",
        "                return file['id']\n",
        "\n",
        "if __name__ == \"__main__\":\n",
        "    item_to = ZipUp('sample_data','/content/drive/My Drive','/content/lib/PyHelpers')\n",
        "    print(item_to.ZipUp)\n"
      ],
      "execution_count": 0,
      "outputs": []
    },
    {
      "cell_type": "code",
      "metadata": {
        "id": "jr_Erdzafp4d",
        "colab_type": "code",
        "colab": {}
      },
      "source": [
        "from pydrive.auth import GoogleAuth\n",
        "from pydrive.drive import GoogleDrive\n",
        "\n",
        "def g_login():\n",
        "    ''' Authenticate and create the PyDrive client.'''\n",
        "    auth.authenticate_user()\n",
        "    gauth = GoogleAuth()\n",
        "    gauth.credentials = GoogleCredentials.get_application_default()\n",
        "    return GoogleDrive(gauth)\n",
        "\n",
        "drive = g_login()\n",
        "\n",
        "query = \"title = 'sample_data.zip'\"\n",
        "file_list = drive.ListFile({'q': query}).GetList()\n",
        "\n",
        "for file in file_list:\n",
        "    if file['labels']['trashed'] ==False:\n",
        "        print('-' * 10)\n",
        "        print(file['id'])\n",
        "#         print(file['downloadUrl'])\n",
        "\n",
        "#         print('-' * 10)\n",
        "        # first parent id\n",
        "        parent_id = file['parents'][0]['id']\n",
        "        print(parent_id)\n",
        "\n",
        "#         print('-' * 10)\n",
        "#         x = drive.CreateFile({'id': parent_id})\n",
        "#         x.FetchMetadata()\n",
        "#         print(x)"
      ],
      "execution_count": 0,
      "outputs": []
    },
    {
      "cell_type": "code",
      "metadata": {
        "id": "dJzoaI2I91iw",
        "colab_type": "code",
        "colab": {}
      },
      "source": [
        "%cd /content/lib/PyHelpers\n",
        "\n",
        "import tensorflow as tf\n",
        "device_name = tf.test.gpu_device_name()\n",
        "if device_name != '/device:GPU:0':\n",
        "    raise SystemError('GPU device not found')\n",
        "print('Found GPU at: {}'.format(device_name))\n",
        "\n",
        "# Install Keras with pip\n",
        "!pip install -q keras\n",
        "import keras\n",
        "# >>> Using TensorFlow backend.\n",
        "#  Install GraphViz with apt\n",
        "!apt-get install graphviz -y\n",
        "# Here's the easiest way to do so, IMO, with a little direction from here.\n",
        "\n",
        "# In a 3 step process, first invoke a file selector within your notebook with this:\n",
        "\n",
        "from google.colab import files\n",
        "uploaded = files.upload()\n",
        "\n",
        "\n",
        "# After your file(s) is/are selected, use the following to iterate the uploaded files in order to find their key names, using:\n",
        "\n",
        "for fn in uploaded.keys():\n",
        "    print('User uploaded file \"{name}\" with length {length} bytes'.format(name=fn, length=len(uploaded[fn])))\n",
        "\n",
        "\n",
        "\n",
        "\n",
        "\n",
        "\n",
        "\n",
        "\n",
        "\n",
        "\n",
        "\n"
      ],
      "execution_count": 0,
      "outputs": []
    },
    {
      "cell_type": "code",
      "metadata": {
        "id": "gCPgQWMvBEOX",
        "colab_type": "code",
        "colab": {}
      },
      "source": [
        "import os\n",
        "os.chdir('/content/lib')\n",
        "from lib.ProjectPrimer import H as Tickle\n",
        "import importlib.util\n",
        "# print(len(H.Me(['globx','/content/lib/PyHelpers','*.py'])))\n",
        "# Tickle.Me(['vdir',[importlib]])\n",
        "# for mod in range(len(H.Me(['globx','/content/lib/PyHelpers','*.py']))):\n",
        "#     print(mod)\n",
        "# Get the specs from the file\n",
        "spec = importlib.util.spec_from_file_location(\"module.name\", \"/content/lib/PyHelpers/ZipUp.py\")\n",
        "# Make a module outof the specs\n",
        "ZipDrive = importlib.util.module_from_spec(spec)\n",
        "# Load the new module(same as import...)\n",
        "spec.loader.exec_module(ZipDrive)\n",
        "# check the new module\n",
        "Tickle.Me(['vdir',[Zip2Drive]])\n",
        "# # item_to = foo.ZipUp('sample_data','/content/drive/My Drive','/content/lib/PyHelpers')\n",
        "# # print(item_to.ZipUp)\n",
        "\n",
        "# # foo.ZipUp()\n",
        "# help(foo)\n",
        "# print(foo.__dict__)\n",
        "# foo.DICT=foo.__dict__\n",
        "# __builtins__.locals()\n"
      ],
      "execution_count": 0,
      "outputs": []
    },
    {
      "cell_type": "code",
      "metadata": {
        "id": "jIGZzaUL91Kn",
        "colab_type": "code",
        "colab": {}
      },
      "source": [
        "H.Me"
      ],
      "execution_count": 0,
      "outputs": []
    }
  ]
}